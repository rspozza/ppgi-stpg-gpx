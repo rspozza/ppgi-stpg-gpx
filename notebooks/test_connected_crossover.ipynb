{
 "cells": [
  {
   "cell_type": "code",
   "execution_count": 1,
   "metadata": {},
   "outputs": [],
   "source": [
    "import sys; sys.path.append('..')\n",
    "from os import path\n",
    "from random import choice\n",
    "from graph import Graph, ReaderORLibrary\n",
    "from graph.steiner import (prunning_mst, shortest_path,\n",
    "                            shortest_path_origin_prim,\n",
    "                            prunning_kruskal_mst,\n",
    "                            shortest_path_with_origin)\n",
    "\n",
    "from graph.util import is_steiner_tree, has_cycle\n",
    "from graph.algorithms import kruskal, prim"
   ]
  },
  {
   "cell_type": "code",
   "execution_count": 2,
   "metadata": {},
   "outputs": [
    {
     "ename": "RuntimeError",
     "evalue": "The current Numpy installation ('C:\\\\Users\\\\User\\\\anaconda3\\\\lib\\\\site-packages\\\\numpy\\\\__init__.py') fails to pass a sanity check due to a bug in the windows runtime. See this issue for more information: https://tinyurl.com/y3dm3h86",
     "output_type": "error",
     "traceback": [
      "\u001b[1;31m---------------------------------------------------------------------------\u001b[0m",
      "\u001b[1;31mRuntimeError\u001b[0m                              Traceback (most recent call last)",
      "\u001b[1;32m<ipython-input-2-9f126bec274e>\u001b[0m in \u001b[0;36m<module>\u001b[1;34m\u001b[0m\n\u001b[1;32m----> 1\u001b[1;33m \u001b[1;32mfrom\u001b[0m \u001b[0mmatplotlib\u001b[0m \u001b[1;32mimport\u001b[0m \u001b[0mpyplot\u001b[0m \u001b[1;32mas\u001b[0m \u001b[0mplt\u001b[0m\u001b[1;33m\u001b[0m\u001b[1;33m\u001b[0m\u001b[0m\n\u001b[0m\u001b[0;32m      2\u001b[0m \u001b[1;32mfrom\u001b[0m \u001b[0mdraw\u001b[0m \u001b[1;32mimport\u001b[0m \u001b[0mdraw_radial\u001b[0m\u001b[1;33m,\u001b[0m \u001b[0mdraw_common\u001b[0m\u001b[1;33m\u001b[0m\u001b[1;33m\u001b[0m\u001b[0m\n",
      "\u001b[1;32m~\\anaconda3\\lib\\site-packages\\matplotlib\\__init__.py\u001b[0m in \u001b[0;36m<module>\u001b[1;34m\u001b[0m\n\u001b[0;32m    136\u001b[0m \u001b[1;31m# cbook must import matplotlib only within function\u001b[0m\u001b[1;33m\u001b[0m\u001b[1;33m\u001b[0m\u001b[1;33m\u001b[0m\u001b[0m\n\u001b[0;32m    137\u001b[0m \u001b[1;31m# definitions, so it is safe to import from it here.\u001b[0m\u001b[1;33m\u001b[0m\u001b[1;33m\u001b[0m\u001b[1;33m\u001b[0m\u001b[0m\n\u001b[1;32m--> 138\u001b[1;33m \u001b[1;32mfrom\u001b[0m \u001b[1;33m.\u001b[0m \u001b[1;32mimport\u001b[0m \u001b[0mcbook\u001b[0m\u001b[1;33m,\u001b[0m \u001b[0mrcsetup\u001b[0m\u001b[1;33m\u001b[0m\u001b[1;33m\u001b[0m\u001b[0m\n\u001b[0m\u001b[0;32m    139\u001b[0m from matplotlib.cbook import (\n\u001b[0;32m    140\u001b[0m     MatplotlibDeprecationWarning, dedent, get_label, sanitize_sequence)\n",
      "\u001b[1;32m~\\anaconda3\\lib\\site-packages\\matplotlib\\cbook\\__init__.py\u001b[0m in \u001b[0;36m<module>\u001b[1;34m\u001b[0m\n\u001b[0;32m     29\u001b[0m \u001b[1;32mfrom\u001b[0m \u001b[0mweakref\u001b[0m \u001b[1;32mimport\u001b[0m \u001b[0mWeakMethod\u001b[0m\u001b[1;33m\u001b[0m\u001b[1;33m\u001b[0m\u001b[0m\n\u001b[0;32m     30\u001b[0m \u001b[1;33m\u001b[0m\u001b[0m\n\u001b[1;32m---> 31\u001b[1;33m \u001b[1;32mimport\u001b[0m \u001b[0mnumpy\u001b[0m \u001b[1;32mas\u001b[0m \u001b[0mnp\u001b[0m\u001b[1;33m\u001b[0m\u001b[1;33m\u001b[0m\u001b[0m\n\u001b[0m\u001b[0;32m     32\u001b[0m \u001b[1;33m\u001b[0m\u001b[0m\n\u001b[0;32m     33\u001b[0m \u001b[1;32mimport\u001b[0m \u001b[0mmatplotlib\u001b[0m\u001b[1;33m\u001b[0m\u001b[1;33m\u001b[0m\u001b[0m\n",
      "\u001b[1;32m~\\anaconda3\\lib\\site-packages\\numpy\\__init__.py\u001b[0m in \u001b[0;36m<module>\u001b[1;34m\u001b[0m\n\u001b[0;32m    303\u001b[0m \u001b[1;33m\u001b[0m\u001b[0m\n\u001b[0;32m    304\u001b[0m     \u001b[1;32mif\u001b[0m \u001b[0msys\u001b[0m\u001b[1;33m.\u001b[0m\u001b[0mplatform\u001b[0m \u001b[1;33m==\u001b[0m \u001b[1;34m\"win32\"\u001b[0m \u001b[1;32mand\u001b[0m \u001b[0msys\u001b[0m\u001b[1;33m.\u001b[0m\u001b[0mmaxsize\u001b[0m \u001b[1;33m>\u001b[0m \u001b[1;36m2\u001b[0m\u001b[1;33m**\u001b[0m\u001b[1;36m32\u001b[0m\u001b[1;33m:\u001b[0m\u001b[1;33m\u001b[0m\u001b[1;33m\u001b[0m\u001b[0m\n\u001b[1;32m--> 305\u001b[1;33m         \u001b[0m_win_os_check\u001b[0m\u001b[1;33m(\u001b[0m\u001b[1;33m)\u001b[0m\u001b[1;33m\u001b[0m\u001b[1;33m\u001b[0m\u001b[0m\n\u001b[0m\u001b[0;32m    306\u001b[0m \u001b[1;33m\u001b[0m\u001b[0m\n\u001b[0;32m    307\u001b[0m     \u001b[1;32mdel\u001b[0m \u001b[0m_win_os_check\u001b[0m\u001b[1;33m\u001b[0m\u001b[1;33m\u001b[0m\u001b[0m\n",
      "\u001b[1;32m~\\anaconda3\\lib\\site-packages\\numpy\\__init__.py\u001b[0m in \u001b[0;36m_win_os_check\u001b[1;34m()\u001b[0m\n\u001b[0;32m    300\u001b[0m                    \u001b[1;34m\"See this issue for more information: \"\u001b[0m\u001b[1;33m\u001b[0m\u001b[1;33m\u001b[0m\u001b[0m\n\u001b[0;32m    301\u001b[0m                    \"https://tinyurl.com/y3dm3h86\")\n\u001b[1;32m--> 302\u001b[1;33m             \u001b[1;32mraise\u001b[0m \u001b[0mRuntimeError\u001b[0m\u001b[1;33m(\u001b[0m\u001b[0mmsg\u001b[0m\u001b[1;33m.\u001b[0m\u001b[0mformat\u001b[0m\u001b[1;33m(\u001b[0m\u001b[0m__file__\u001b[0m\u001b[1;33m)\u001b[0m\u001b[1;33m)\u001b[0m \u001b[1;32mfrom\u001b[0m \u001b[1;32mNone\u001b[0m\u001b[1;33m\u001b[0m\u001b[1;33m\u001b[0m\u001b[0m\n\u001b[0m\u001b[0;32m    303\u001b[0m \u001b[1;33m\u001b[0m\u001b[0m\n\u001b[0;32m    304\u001b[0m     \u001b[1;32mif\u001b[0m \u001b[0msys\u001b[0m\u001b[1;33m.\u001b[0m\u001b[0mplatform\u001b[0m \u001b[1;33m==\u001b[0m \u001b[1;34m\"win32\"\u001b[0m \u001b[1;32mand\u001b[0m \u001b[0msys\u001b[0m\u001b[1;33m.\u001b[0m\u001b[0mmaxsize\u001b[0m \u001b[1;33m>\u001b[0m \u001b[1;36m2\u001b[0m\u001b[1;33m**\u001b[0m\u001b[1;36m32\u001b[0m\u001b[1;33m:\u001b[0m\u001b[1;33m\u001b[0m\u001b[1;33m\u001b[0m\u001b[0m\n",
      "\u001b[1;31mRuntimeError\u001b[0m: The current Numpy installation ('C:\\\\Users\\\\User\\\\anaconda3\\\\lib\\\\site-packages\\\\numpy\\\\__init__.py') fails to pass a sanity check due to a bug in the windows runtime. See this issue for more information: https://tinyurl.com/y3dm3h86"
     ]
    }
   ],
   "source": [
    "from matplotlib import pyplot as plt\n",
    "from draw import draw_radial, draw_common"
   ]
  },
  {
   "cell_type": "code",
   "execution_count": null,
   "metadata": {},
   "outputs": [],
   "source": [
    "from operator import attrgetter"
   ]
  },
  {
   "cell_type": "code",
   "execution_count": null,
   "metadata": {},
   "outputs": [],
   "source": [
    "from pxcrossover import compose, connected"
   ]
  },
  {
   "cell_type": "markdown",
   "metadata": {},
   "source": [
    "As heurísticas para o STPG dão uma medida de aproximação sobre a qualidade da solução próxima que encontram. \n",
    "Esta medida pode ser de alguma forma utilizada para verificar quando uma heurísticas pode ser utilizada para determinada instância de forma que o operador de cruzamento seja eficiênte?"
   ]
  },
  {
   "cell_type": "code",
   "execution_count": 7,
   "metadata": {},
   "outputs": [
    {
     "data": {
      "text/plain": [
       "True"
      ]
     },
     "execution_count": 7,
     "metadata": {},
     "output_type": "execute_result"
    }
   ],
   "source": [
    "file = path.join('..', 'datasets','ORLibrary', 'steinb18.txt')\n",
    "\n",
    "path.exists(file)"
   ]
  },
  {
   "cell_type": "code",
   "execution_count": 8,
   "metadata": {},
   "outputs": [],
   "source": [
    "reader = ReaderORLibrary()\n",
    "\n",
    "stpg = reader.parser(file)"
   ]
  },
  {
   "cell_type": "code",
   "execution_count": 9,
   "metadata": {},
   "outputs": [
    {
     "data": {
      "text/plain": [
       "graph.graph.Graph"
      ]
     },
     "execution_count": 9,
     "metadata": {},
     "output_type": "execute_result"
    }
   ],
   "source": [
    "type(stpg.graph)"
   ]
  },
  {
   "cell_type": "code",
   "execution_count": 10,
   "metadata": {},
   "outputs": [
    {
     "name": "stdout",
     "output_type": "stream",
     "text": [
      "{5, 9, 11, 16, 17, 18, 19, 20, 21, 23, 25, 27, 33, 34, 36, 38, 40, 43, 44, 46, 49, 50, 51, 52, 54, 55, 57, 58, 59, 60, 61, 62, 66, 67, 69, 70, 79, 81, 82, 83, 84, 85, 88, 89, 91, 93, 94, 95, 97, 100}\n"
     ]
    }
   ],
   "source": [
    "print(stpg.terminals)"
   ]
  },
  {
   "cell_type": "code",
   "execution_count": 11,
   "metadata": {},
   "outputs": [
    {
     "name": "stdout",
     "output_type": "stream",
     "text": [
      "Help on function prunning_mst in module graph.steiner:\n",
      "\n",
      "prunning_mst(graph, start, terminals)\n",
      "    Parameters:\n",
      "        graph : Graph\n",
      "            Base graph to compute the Steiner tree\n",
      "        start : Node\n",
      "            Where is to start Prim's algorithm\n",
      "        terminals : Set\n",
      "            Terminals Nodes from the STPG instance\n",
      "    \n",
      "    Return:\n",
      "        prunning : A Steiner Tree\n",
      "        total : Numeric - total cost of the tree\n",
      "    \n",
      "    Notes:\n",
      "        Determina a MST do grafo por meio do algoritmo de Prim.\n",
      "        Realiza a poda considerando os nós terminais como os nós folhas até a raiz <start>\n",
      "        Se <start> for um vértice não terminal, o laço <while> verifica se <start> é um vértice folha da árvore resultande.\n",
      "        Em caso afirmativo realiza uma poda iterativa a partir desse vértice para garantir que a árvore resultante seja\n",
      "        uma árvore de Steiner.\n",
      "        Resulta sempre na mesma árvore para qualquer vértice <start> considerado.\n",
      "\n"
     ]
    }
   ],
   "source": [
    "help(prunning_mst)"
   ]
  },
  {
   "cell_type": "code",
   "execution_count": 12,
   "metadata": {},
   "outputs": [
    {
     "name": "stdout",
     "output_type": "stream",
     "text": [
      "Help on function is_steiner_tree in module graph.util:\n",
      "\n",
      "is_steiner_tree(subgraph: graph.graph.Graph, STPG: graph.reader.SteinerTreeProblem)\n",
      "    Check if the graph passed is a Steiner Tree.\n",
      "    \n",
      "    Parameters:\n",
      "        subgraph : Graph\n",
      "            represent the partial solution to be tested\n",
      "        STPG : SteinerTreeProblem\n",
      "            the problem instance itself\n",
      "    \n",
      "    Returns:\n",
      "        bool: True or False\n",
      "        dict : status' test\n",
      "    \n",
      "    Note: A Steiner Tree might not be a Minimal Steiner Tree.\n",
      "\n"
     ]
    }
   ],
   "source": [
    "help(is_steiner_tree)"
   ]
  },
  {
   "cell_type": "code",
   "execution_count": 13,
   "metadata": {},
   "outputs": [
    {
     "name": "stdout",
     "output_type": "stream",
     "text": [
      "Wall time: 9.99 ms\n"
     ]
    },
    {
     "data": {
      "text/plain": [
       "225"
      ]
     },
     "execution_count": 13,
     "metadata": {},
     "output_type": "execute_result"
    }
   ],
   "source": [
    "%%time\n",
    "\n",
    "tt = choice(list(stpg.terminals))\n",
    "\n",
    "aa, a_cost = prunning_mst(stpg.graph, tt, stpg.terminals)\n",
    "\n",
    "a_cost"
   ]
  },
  {
   "cell_type": "code",
   "execution_count": 14,
   "metadata": {},
   "outputs": [
    {
     "data": {
      "text/plain": [
       "(True,\n",
       " {'has_cycle': False,\n",
       "  'all_terminals_in': True,\n",
       "  'all_leaves_are_terminals': True,\n",
       "  'all_edges_are_reliable': True,\n",
       "  'graph_is_connected': True})"
      ]
     },
     "execution_count": 14,
     "metadata": {},
     "output_type": "execute_result"
    }
   ],
   "source": [
    "is_steiner_tree(aa,stpg)"
   ]
  },
  {
   "cell_type": "code",
   "execution_count": 15,
   "metadata": {},
   "outputs": [
    {
     "name": "stdout",
     "output_type": "stream",
     "text": [
      "Wall time: 5 ms\n"
     ]
    },
    {
     "data": {
      "text/plain": [
       "(True,\n",
       " {'has_cycle': False,\n",
       "  'all_terminals_in': True,\n",
       "  'all_leaves_are_terminals': True,\n",
       "  'all_edges_are_reliable': True,\n",
       "  'graph_is_connected': True})"
      ]
     },
     "execution_count": 15,
     "metadata": {},
     "output_type": "execute_result"
    }
   ],
   "source": [
    "%%time \n",
    "\n",
    "tt = choice(list(stpg.terminals))\n",
    "terminals = set(stpg.terminals)\n",
    "\n",
    "cc = prunning_kruskal_mst(stpg.graph, terminals)\n",
    "\n",
    "is_steiner_tree(cc, stpg)"
   ]
  },
  {
   "cell_type": "code",
   "execution_count": null,
   "metadata": {},
   "outputs": [],
   "source": []
  },
  {
   "cell_type": "code",
   "execution_count": 16,
   "metadata": {},
   "outputs": [],
   "source": [
    "non_terminal = [ v for v in range(1, stpg.nro_nodes + 1) if v not in stpg.terminals]\n",
    "# print(non_terminal)"
   ]
  },
  {
   "cell_type": "code",
   "execution_count": 17,
   "metadata": {},
   "outputs": [
    {
     "name": "stdout",
     "output_type": "stream",
     "text": [
      "vertice  47\n"
     ]
    },
    {
     "data": {
      "text/plain": [
       "227"
      ]
     },
     "execution_count": 17,
     "metadata": {},
     "output_type": "execute_result"
    }
   ],
   "source": [
    "v = choice(non_terminal)\n",
    "\n",
    "print(\"vertice \", v)\n",
    "\n",
    "bb, b_cost = prunning_mst(stpg.graph, v, stpg.terminals)\n",
    "\n",
    "b_cost"
   ]
  },
  {
   "cell_type": "code",
   "execution_count": 18,
   "metadata": {},
   "outputs": [
    {
     "data": {
      "text/plain": [
       "(True,\n",
       " {'has_cycle': False,\n",
       "  'all_terminals_in': True,\n",
       "  'all_leaves_are_terminals': True,\n",
       "  'all_edges_are_reliable': True,\n",
       "  'graph_is_connected': True})"
      ]
     },
     "execution_count": 18,
     "metadata": {},
     "output_type": "execute_result"
    }
   ],
   "source": [
    "is_steiner_tree(bb, stpg)"
   ]
  },
  {
   "cell_type": "code",
   "execution_count": 19,
   "metadata": {},
   "outputs": [
    {
     "data": {
      "text/plain": [
       "False"
      ]
     },
     "execution_count": 19,
     "metadata": {},
     "output_type": "execute_result"
    }
   ],
   "source": [
    "v in bb"
   ]
  },
  {
   "cell_type": "code",
   "execution_count": 20,
   "metadata": {},
   "outputs": [
    {
     "name": "stdout",
     "output_type": "stream",
     "text": [
      "Help on function compose in module pxcrossover:\n",
      "\n",
      "compose(red: graph.graph.Graph, blue: graph.graph.Graph)\n",
      "    Parameters:\n",
      "    ----------\n",
      "        red, blue : Graph\n",
      "    \n",
      "    Return:\n",
      "    -------\n",
      "        g_union, g_common, g_star : Graph\n",
      "\n"
     ]
    }
   ],
   "source": [
    "help(compose)"
   ]
  },
  {
   "cell_type": "code",
   "execution_count": 21,
   "metadata": {},
   "outputs": [],
   "source": [
    "g_union, g_common, g_star = compose(aa, bb)"
   ]
  },
  {
   "cell_type": "code",
   "execution_count": 22,
   "metadata": {},
   "outputs": [
    {
     "name": "stdout",
     "output_type": "stream",
     "text": [
      "Help on function connected in module pxcrossover:\n",
      "\n",
      "connected(g_union: graph.graph.Graph, red: graph.graph.Graph, blue: graph.graph.Graph, start: 'node')\n",
      "\n"
     ]
    }
   ],
   "source": [
    "help(connected)"
   ]
  },
  {
   "cell_type": "code",
   "execution_count": 23,
   "metadata": {},
   "outputs": [
    {
     "name": "stdout",
     "output_type": "stream",
     "text": [
      "Wall time: 999 µs\n"
     ]
    }
   ],
   "source": [
    "%%time\n",
    "\n",
    "first, second, previous = connected(g_union, aa, bb, tt)"
   ]
  },
  {
   "cell_type": "code",
   "execution_count": 24,
   "metadata": {},
   "outputs": [
    {
     "data": {
      "text/plain": [
       "2"
      ]
     },
     "execution_count": 24,
     "metadata": {},
     "output_type": "execute_result"
    }
   ],
   "source": [
    "len(first)"
   ]
  },
  {
   "cell_type": "code",
   "execution_count": 25,
   "metadata": {},
   "outputs": [
    {
     "data": {
      "text/plain": [
       "2"
      ]
     },
     "execution_count": 25,
     "metadata": {},
     "output_type": "execute_result"
    }
   ],
   "source": [
    "len(second)"
   ]
  },
  {
   "cell_type": "code",
   "execution_count": 26,
   "metadata": {},
   "outputs": [
    {
     "data": {
      "image/png": "[encoded data removed]",
      "image/svg+xml": [
       "<?xml version=\"1.0\" encoding=\"utf-8\" standalone=\"no\"?>\r\n",
       "<!DOCTYPE svg PUBLIC \"-//W3C//DTD SVG 1.1//EN\"\r\n",
       "  \"http://www.w3.org/Graphics/SVG/1.1/DTD/svg11.dtd\">\r\n",
       "<!-- Created with matplotlib (https://matplotlib.org/) -->\r\n",
       "<svg height=\"829.8pt\" version=\"1.1\" viewBox=\"0 0 851.4 829.8\" width=\"851.4pt\" xmlns=\"http://www.w3.org/2000/svg\" xmlns:xlink=\"http://www.w3.org/1999/xlink\">\r\n",
       " <defs>\r\n",
       "  <style type=\"text/css\">\r\n",
       "*{stroke-linecap:butt;stroke-linejoin:round;}\r\n",
       "  </style>\r\n",
       " </defs>\r\n",
       " <g id=\"figure_1\">\r\n",
       "  <g id=\"patch_1\">\r\n",
       "   <path d=\"M 0 829.8 \r\n",
       "L 851.4 829.8 \r\n",
       "L 851.4 0 \r\n",
       "L 0 0 \r\n",
       "z\r\n",
       "\" style=\"fill:#ffffff;\"/>\r\n",
       "  </g>\r\n",
       "  <g id=\"axes_1\">\r\n",
       "   <g id=\"LineCollection_1\">\r\n",
       "    <path clip-path=\"url(#p483c8293ab)\" d=\"M 376.103023 275.003402 \r\n",
       "L 393.506216 315.640143 \r\n",
       "\" style=\"fill:none;stroke:#000000;\"/>\r\n",
       "    <path clip-path=\"url(#p483c8293ab)\" d=\"M 376.103023 275.003402 \r\n",
       "L 349.688714 238.252025 \r\n",
       "\" style=\"fill:none;stroke:#000000;\"/>\r\n",
       "    <path clip-path=\"url(#p483c8293ab)\" d=\"M 376.103023 275.003402 \r\n",
       "L 424.236175 255.826232 \r\n",
       "\" style=\"fill:none;stroke:#000000;\"/>\r\n",
       "    <path clip-path=\"url(#p483c8293ab)\" d=\"M 376.103023 275.003402 \r\n",
       "L 329.010711 288.724041 \r\n",
       "\" style=\"fill:none;stroke:#000000;\"/>\r\n",
       "    <path clip-path=\"url(#p483c8293ab)\" d=\"M 393.506216 315.640143 \r\n",
       "L 415.303523 353.753974 \r\n",
       "\" style=\"fill:none;stroke:#000000;\"/>\r\n",
       "    <path clip-path=\"url(#p483c8293ab)\" d=\"M 393.506216 315.640143 \r\n",
       "L 434.848417 301.863742 \r\n",
       "\" style=\"fill:none;stroke:#000000;\"/>\r\n",
       "    <path clip-path=\"url(#p483c8293ab)\" d=\"M 349.688714 238.252025 \r\n",
       "L 328.884258 200.12551 \r\n",
       "\" style=\"fill:none;stroke:#000000;\"/>\r\n",
       "    <path clip-path=\"url(#p483c8293ab)\" d=\"M 424.236175 255.826232 \r\n",
       "L 473.775186 236.064577 \r\n",
       "\" style=\"fill:none;stroke:#000000;\"/>\r\n",
       "    <path clip-path=\"url(#p483c8293ab)\" d=\"M 415.303523 353.753974 \r\n",
       "L 449.409332 387.851416 \r\n",
       "\" style=\"fill:none;stroke:#000000;\"/>\r\n",
       "    <path clip-path=\"url(#p483c8293ab)\" d=\"M 449.409332 387.851416 \r\n",
       "L 495.446424 411.577292 \r\n",
       "\" style=\"fill:none;stroke:#000000;\"/>\r\n",
       "    <path clip-path=\"url(#p483c8293ab)\" d=\"M 449.409332 387.851416 \r\n",
       "L 415.276199 420.807131 \r\n",
       "\" style=\"fill:none;stroke:#000000;\"/>\r\n",
       "    <path clip-path=\"url(#p483c8293ab)\" d=\"M 449.409332 387.851416 \r\n",
       "L 491.627259 364.972666 \r\n",
       "\" style=\"fill:none;stroke:#000000;\"/>\r\n",
       "    <path clip-path=\"url(#p483c8293ab)\" d=\"M 495.446424 411.577292 \r\n",
       "L 530.05376 444.471692 \r\n",
       "\" style=\"fill:none;stroke:#000000;\"/>\r\n",
       "    <path clip-path=\"url(#p483c8293ab)\" d=\"M 415.276199 420.807131 \r\n",
       "L 408.355116 463.441016 \r\n",
       "\" style=\"fill:none;stroke:#000000;\"/>\r\n",
       "    <path clip-path=\"url(#p483c8293ab)\" d=\"M 491.627259 364.972666 \r\n",
       "L 539.592771 342.621397 \r\n",
       "\" style=\"fill:none;stroke:#000000;\"/>\r\n",
       "    <path clip-path=\"url(#p483c8293ab)\" d=\"M 530.05376 444.471692 \r\n",
       "L 587.332092 427.591088 \r\n",
       "\" style=\"fill:none;stroke:#000000;\"/>\r\n",
       "    <path clip-path=\"url(#p483c8293ab)\" d=\"M 530.05376 444.471692 \r\n",
       "L 480.494127 472.155349 \r\n",
       "\" style=\"fill:none;stroke:#000000;\"/>\r\n",
       "    <path clip-path=\"url(#p483c8293ab)\" d=\"M 530.05376 444.471692 \r\n",
       "L 558.031552 476.905835 \r\n",
       "\" style=\"fill:none;stroke:#000000;\"/>\r\n",
       "    <path clip-path=\"url(#p483c8293ab)\" d=\"M 587.332092 427.591088 \r\n",
       "L 647.494803 412.252214 \r\n",
       "\" style=\"fill:none;stroke:#000000;\"/>\r\n",
       "    <path clip-path=\"url(#p483c8293ab)\" d=\"M 587.332092 427.591088 \r\n",
       "L 626.334655 440.272858 \r\n",
       "\" style=\"fill:none;stroke:#000000;\"/>\r\n",
       "    <path clip-path=\"url(#p483c8293ab)\" d=\"M 480.494127 472.155349 \r\n",
       "L 427.719058 506.653893 \r\n",
       "\" style=\"fill:none;stroke:#000000;\"/>\r\n",
       "    <path clip-path=\"url(#p483c8293ab)\" d=\"M 558.031552 476.905835 \r\n",
       "L 568.764618 514.76589 \r\n",
       "\" style=\"fill:none;stroke:#000000;\"/>\r\n",
       "    <path clip-path=\"url(#p483c8293ab)\" d=\"M 647.494803 412.252214 \r\n",
       "L 706.165748 407.482084 \r\n",
       "\" style=\"fill:none;stroke:#000000;\"/>\r\n",
       "    <path clip-path=\"url(#p483c8293ab)\" d=\"M 706.165748 407.482084 \r\n",
       "L 752.812289 386.051153 \r\n",
       "\" style=\"fill:none;stroke:#000000;\"/>\r\n",
       "    <path clip-path=\"url(#p483c8293ab)\" d=\"M 706.165748 407.482084 \r\n",
       "L 752.275589 428.535345 \r\n",
       "\" style=\"fill:none;stroke:#000000;\"/>\r\n",
       "    <path clip-path=\"url(#p483c8293ab)\" d=\"M 752.812289 386.051153 \r\n",
       "L 806.154545 380.611898 \r\n",
       "\" style=\"fill:none;stroke:#000000;\"/>\r\n",
       "    <path clip-path=\"url(#p483c8293ab)\" d=\"M 433.886022 102.199175 \r\n",
       "L 395.475908 133.616848 \r\n",
       "\" style=\"fill:none;stroke:#000000;\"/>\r\n",
       "    <path clip-path=\"url(#p483c8293ab)\" d=\"M 395.475908 133.616848 \r\n",
       "L 362.600039 160.476916 \r\n",
       "\" style=\"fill:none;stroke:#000000;\"/>\r\n",
       "    <path clip-path=\"url(#p483c8293ab)\" d=\"M 362.600039 160.476916 \r\n",
       "L 328.884258 200.12551 \r\n",
       "\" style=\"fill:none;stroke:#000000;\"/>\r\n",
       "    <path clip-path=\"url(#p483c8293ab)\" d=\"M 362.600039 160.476916 \r\n",
       "L 345.792684 119.771206 \r\n",
       "\" style=\"fill:none;stroke:#000000;\"/>\r\n",
       "    <path clip-path=\"url(#p483c8293ab)\" d=\"M 362.600039 160.476916 \r\n",
       "L 418.290915 154.234031 \r\n",
       "\" style=\"fill:none;stroke:#000000;\"/>\r\n",
       "    <path clip-path=\"url(#p483c8293ab)\" d=\"M 328.884258 200.12551 \r\n",
       "L 261.673135 201.419208 \r\n",
       "\" style=\"fill:none;stroke:#000000;\"/>\r\n",
       "    <path clip-path=\"url(#p483c8293ab)\" d=\"M 328.884258 200.12551 \r\n",
       "L 302.667833 183.063593 \r\n",
       "\" style=\"fill:none;stroke:#000000;\"/>\r\n",
       "    <path clip-path=\"url(#p483c8293ab)\" d=\"M 345.792684 119.771206 \r\n",
       "L 309.715292 92.847021 \r\n",
       "\" style=\"fill:none;stroke:#000000;\"/>\r\n",
       "    <path clip-path=\"url(#p483c8293ab)\" d=\"M 345.792684 119.771206 \r\n",
       "L 365.377969 80.753933 \r\n",
       "\" style=\"fill:none;stroke:#000000;\"/>\r\n",
       "    <path clip-path=\"url(#p483c8293ab)\" d=\"M 418.290915 154.234031 \r\n",
       "L 466.441956 129.333112 \r\n",
       "\" style=\"fill:none;stroke:#000000;\"/>\r\n",
       "    <path clip-path=\"url(#p483c8293ab)\" d=\"M 261.673135 201.419208 \r\n",
       "L 225.747084 223.953586 \r\n",
       "\" style=\"fill:none;stroke:#000000;\"/>\r\n",
       "    <path clip-path=\"url(#p483c8293ab)\" d=\"M 261.673135 201.419208 \r\n",
       "L 204.501112 185.548626 \r\n",
       "\" style=\"fill:none;stroke:#000000;\"/>\r\n",
       "    <path clip-path=\"url(#p483c8293ab)\" d=\"M 302.667833 183.063593 \r\n",
       "L 270.61444 154.837467 \r\n",
       "\" style=\"fill:none;stroke:#000000;\"/>\r\n",
       "    <path clip-path=\"url(#p483c8293ab)\" d=\"M 108.316546 785.536364 \r\n",
       "L 97.717519 748.568407 \r\n",
       "\" style=\"fill:none;stroke:#000000;\"/>\r\n",
       "    <path clip-path=\"url(#p483c8293ab)\" d=\"M 97.717519 748.568407 \r\n",
       "L 124.198791 716.025451 \r\n",
       "\" style=\"fill:none;stroke:#000000;\"/>\r\n",
       "    <path clip-path=\"url(#p483c8293ab)\" d=\"M 97.717519 748.568407 \r\n",
       "L 45.245455 756.781229 \r\n",
       "\" style=\"fill:none;stroke:#000000;\"/>\r\n",
       "    <path clip-path=\"url(#p483c8293ab)\" d=\"M 124.198791 716.025451 \r\n",
       "L 141.117442 679.112128 \r\n",
       "\" style=\"fill:none;stroke:#000000;\"/>\r\n",
       "    <path clip-path=\"url(#p483c8293ab)\" d=\"M 141.117442 679.112128 \r\n",
       "L 191.97718 662.364636 \r\n",
       "\" style=\"fill:none;stroke:#000000;\"/>\r\n",
       "    <path clip-path=\"url(#p483c8293ab)\" d=\"M 141.117442 679.112128 \r\n",
       "L 89.888953 665.818218 \r\n",
       "\" style=\"fill:none;stroke:#000000;\"/>\r\n",
       "    <path clip-path=\"url(#p483c8293ab)\" d=\"M 191.97718 662.364636 \r\n",
       "L 219.15881 629.132425 \r\n",
       "\" style=\"fill:none;stroke:#000000;\"/>\r\n",
       "    <path clip-path=\"url(#p483c8293ab)\" d=\"M 191.97718 662.364636 \r\n",
       "L 221.732424 695.189439 \r\n",
       "\" style=\"fill:none;stroke:#000000;\"/>\r\n",
       "    <path clip-path=\"url(#p483c8293ab)\" d=\"M 219.15881 629.132425 \r\n",
       "L 250.985697 599.137541 \r\n",
       "\" style=\"fill:none;stroke:#000000;\"/>\r\n",
       "    <path clip-path=\"url(#p483c8293ab)\" d=\"M 250.985697 599.137541 \r\n",
       "L 285.755771 569.429618 \r\n",
       "\" style=\"fill:none;stroke:#000000;\"/>\r\n",
       "    <path clip-path=\"url(#p483c8293ab)\" d=\"M 285.755771 569.429618 \r\n",
       "L 341.228994 569.840344 \r\n",
       "\" style=\"fill:none;stroke:#ff0000;\"/>\r\n",
       "    <path clip-path=\"url(#p483c8293ab)\" d=\"M 285.755771 569.429618 \r\n",
       "L 273.04083 532.045048 \r\n",
       "\" style=\"fill:none;stroke:#4682b4;\"/>\r\n",
       "    <path clip-path=\"url(#p483c8293ab)\" d=\"M 341.228994 569.840344 \r\n",
       "L 386.295533 543.337568 \r\n",
       "\" style=\"fill:none;stroke:#ff0000;\"/>\r\n",
       "    <path clip-path=\"url(#p483c8293ab)\" d=\"M 386.295533 543.337568 \r\n",
       "L 427.719058 506.653893 \r\n",
       "\" style=\"fill:none;stroke:#000000;\"/>\r\n",
       "    <path clip-path=\"url(#p483c8293ab)\" d=\"M 365.377969 80.753933 \r\n",
       "L 377.809239 44.263636 \r\n",
       "\" style=\"fill:none;stroke:#000000;\"/>\r\n",
       "    <path clip-path=\"url(#p483c8293ab)\" d=\"M 204.501112 185.548626 \r\n",
       "L 150.648417 171.574405 \r\n",
       "\" style=\"fill:none;stroke:#000000;\"/>\r\n",
       "    <path clip-path=\"url(#p483c8293ab)\" d=\"M 431.991718 525.928065 \r\n",
       "L 457.90999 496.458959 \r\n",
       "\" style=\"fill:none;stroke:#000000;\"/>\r\n",
       "    <path clip-path=\"url(#p483c8293ab)\" d=\"M 457.90999 496.458959 \r\n",
       "L 408.355116 463.441016 \r\n",
       "\" style=\"fill:none;stroke:#000000;\"/>\r\n",
       "    <path clip-path=\"url(#p483c8293ab)\" d=\"M 457.90999 496.458959 \r\n",
       "L 512.155902 523.417547 \r\n",
       "\" style=\"fill:none;stroke:#4682b4;\"/>\r\n",
       "    <path clip-path=\"url(#p483c8293ab)\" d=\"M 408.355116 463.441016 \r\n",
       "L 350.236106 477.260188 \r\n",
       "\" style=\"fill:none;stroke:#4682b4;\"/>\r\n",
       "    <path clip-path=\"url(#p483c8293ab)\" d=\"M 626.32333 583.097308 \r\n",
       "L 616.291305 540.244543 \r\n",
       "\" style=\"fill:none;stroke:#000000;\"/>\r\n",
       "    <path clip-path=\"url(#p483c8293ab)\" d=\"M 626.32333 583.097308 \r\n",
       "L 658.670981 614.678709 \r\n",
       "\" style=\"fill:none;stroke:#000000;\"/>\r\n",
       "    <path clip-path=\"url(#p483c8293ab)\" d=\"M 616.291305 540.244543 \r\n",
       "L 568.764618 514.76589 \r\n",
       "\" style=\"fill:none;stroke:#000000;\"/>\r\n",
       "    <path clip-path=\"url(#p483c8293ab)\" d=\"M 616.291305 540.244543 \r\n",
       "L 675.46096 533.067168 \r\n",
       "\" style=\"fill:none;stroke:#000000;\"/>\r\n",
       "    <path clip-path=\"url(#p483c8293ab)\" d=\"M 616.291305 540.244543 \r\n",
       "L 651.214254 556.962212 \r\n",
       "\" style=\"fill:none;stroke:#000000;\"/>\r\n",
       "    <path clip-path=\"url(#p483c8293ab)\" d=\"M 658.670981 614.678709 \r\n",
       "L 695.84685 640.260818 \r\n",
       "\" style=\"fill:none;stroke:#000000;\"/>\r\n",
       "    <path clip-path=\"url(#p483c8293ab)\" d=\"M 568.764618 514.76589 \r\n",
       "L 512.155902 523.417547 \r\n",
       "\" style=\"fill:none;stroke:#ff0000;\"/>\r\n",
       "    <path clip-path=\"url(#p483c8293ab)\" d=\"M 675.46096 533.067168 \r\n",
       "L 728.820501 544.739913 \r\n",
       "\" style=\"fill:none;stroke:#000000;\"/>\r\n",
       "    <path clip-path=\"url(#p483c8293ab)\" d=\"M 512.155902 523.417547 \r\n",
       "L 526.850787 558.212175 \r\n",
       "\" style=\"fill:none;stroke:#000000;\"/>\r\n",
       "    <path clip-path=\"url(#p483c8293ab)\" d=\"M 512.155902 523.417547 \r\n",
       "L 495.321234 560.952729 \r\n",
       "\" style=\"fill:none;stroke:#000000;\"/>\r\n",
       "    <path clip-path=\"url(#p483c8293ab)\" d=\"M 100.810307 156.690926 \r\n",
       "L 150.648417 171.574405 \r\n",
       "\" style=\"fill:none;stroke:#000000;\"/>\r\n",
       "    <path clip-path=\"url(#p483c8293ab)\" d=\"M 100.810307 156.690926 \r\n",
       "L 54.947105 139.724883 \r\n",
       "\" style=\"fill:none;stroke:#000000;\"/>\r\n",
       "    <path clip-path=\"url(#p483c8293ab)\" d=\"M 150.648417 171.574405 \r\n",
       "L 143.560869 132.604612 \r\n",
       "\" style=\"fill:none;stroke:#000000;\"/>\r\n",
       "    <path clip-path=\"url(#p483c8293ab)\" d=\"M 150.648417 171.574405 \r\n",
       "L 106.915064 195.236584 \r\n",
       "\" style=\"fill:none;stroke:#000000;\"/>\r\n",
       "    <path clip-path=\"url(#p483c8293ab)\" d=\"M 539.592771 342.621397 \r\n",
       "L 586.909735 320.784675 \r\n",
       "\" style=\"fill:none;stroke:#000000;\"/>\r\n",
       "    <path clip-path=\"url(#p483c8293ab)\" d=\"M 273.04083 532.045048 \r\n",
       "L 301.07898 499.205363 \r\n",
       "\" style=\"fill:none;stroke:#4682b4;\"/>\r\n",
       "    <path clip-path=\"url(#p483c8293ab)\" d=\"M 301.07898 499.205363 \r\n",
       "L 350.236106 477.260188 \r\n",
       "\" style=\"fill:none;stroke:#4682b4;\"/>\r\n",
       "   </g>\r\n",
       "   <g id=\"PathCollection_1\">\r\n",
       "    <defs>\r\n",
       "     <path d=\"M 0 8.660254 \r\n",
       "C 2.296726 8.660254 4.499694 7.747755 6.123724 6.123724 \r\n",
       "C 7.747755 4.499694 8.660254 2.296726 8.660254 0 \r\n",
       "C 8.660254 -2.296726 7.747755 -4.499694 6.123724 -6.123724 \r\n",
       "C 4.499694 -7.747755 2.296726 -8.660254 0 -8.660254 \r\n",
       "C -2.296726 -8.660254 -4.499694 -7.747755 -6.123724 -6.123724 \r\n",
       "C -7.747755 -4.499694 -8.660254 -2.296726 -8.660254 0 \r\n",
       "C -8.660254 2.296726 -7.747755 4.499694 -6.123724 6.123724 \r\n",
       "C -4.499694 7.747755 -2.296726 8.660254 0 8.660254 \r\n",
       "z\r\n",
       "\" id=\"C0_0_c3167fb855\"/>\r\n",
       "    </defs>\r\n",
       "    <g clip-path=\"url(#p483c8293ab)\">\r\n",
       "     <use style=\"fill:#ffa500;stroke:#ffa500;\" x=\"376.103023\" xlink:href=\"#C0_0_c3167fb855\" y=\"275.003402\"/>\r\n",
       "    </g>\r\n",
       "    <g clip-path=\"url(#p483c8293ab)\">\r\n",
       "     <use style=\"fill:#ffa500;stroke:#ffa500;\" x=\"393.506216\" xlink:href=\"#C0_0_c3167fb855\" y=\"315.640143\"/>\r\n",
       "    </g>\r\n",
       "    <g clip-path=\"url(#p483c8293ab)\">\r\n",
       "     <use style=\"fill:#ffffff;stroke:#ffffff;\" x=\"349.688714\" xlink:href=\"#C0_0_c3167fb855\" y=\"238.252025\"/>\r\n",
       "    </g>\r\n",
       "    <g clip-path=\"url(#p483c8293ab)\">\r\n",
       "     <use style=\"fill:#ffffff;stroke:#ffffff;\" x=\"424.236175\" xlink:href=\"#C0_0_c3167fb855\" y=\"255.826232\"/>\r\n",
       "    </g>\r\n",
       "    <g clip-path=\"url(#p483c8293ab)\">\r\n",
       "     <use style=\"fill:#ffa500;stroke:#ffa500;\" x=\"329.010711\" xlink:href=\"#C0_0_c3167fb855\" y=\"288.724041\"/>\r\n",
       "    </g>\r\n",
       "    <g clip-path=\"url(#p483c8293ab)\">\r\n",
       "     <use style=\"fill:#ffffff;stroke:#ffffff;\" x=\"415.303523\" xlink:href=\"#C0_0_c3167fb855\" y=\"353.753974\"/>\r\n",
       "    </g>\r\n",
       "    <g clip-path=\"url(#p483c8293ab)\">\r\n",
       "     <use style=\"fill:#ffa500;stroke:#ffa500;\" x=\"434.848417\" xlink:href=\"#C0_0_c3167fb855\" y=\"301.863742\"/>\r\n",
       "    </g>\r\n",
       "    <g clip-path=\"url(#p483c8293ab)\">\r\n",
       "     <use style=\"fill:#ffa500;stroke:#ffa500;\" x=\"449.409332\" xlink:href=\"#C0_0_c3167fb855\" y=\"387.851416\"/>\r\n",
       "    </g>\r\n",
       "    <g clip-path=\"url(#p483c8293ab)\">\r\n",
       "     <use style=\"fill:#ffa500;stroke:#ffa500;\" x=\"495.446424\" xlink:href=\"#C0_0_c3167fb855\" y=\"411.577292\"/>\r\n",
       "    </g>\r\n",
       "    <g clip-path=\"url(#p483c8293ab)\">\r\n",
       "     <use style=\"fill:#ffffff;stroke:#ffffff;\" x=\"415.276199\" xlink:href=\"#C0_0_c3167fb855\" y=\"420.807131\"/>\r\n",
       "    </g>\r\n",
       "    <g clip-path=\"url(#p483c8293ab)\">\r\n",
       "     <use style=\"fill:#ffa500;stroke:#ffa500;\" x=\"491.627259\" xlink:href=\"#C0_0_c3167fb855\" y=\"364.972666\"/>\r\n",
       "    </g>\r\n",
       "    <g clip-path=\"url(#p483c8293ab)\">\r\n",
       "     <use style=\"fill:#ffa500;stroke:#ffa500;\" x=\"530.05376\" xlink:href=\"#C0_0_c3167fb855\" y=\"444.471692\"/>\r\n",
       "    </g>\r\n",
       "    <g clip-path=\"url(#p483c8293ab)\">\r\n",
       "     <use style=\"fill:#ffffff;stroke:#ffffff;\" x=\"587.332092\" xlink:href=\"#C0_0_c3167fb855\" y=\"427.591088\"/>\r\n",
       "    </g>\r\n",
       "    <g clip-path=\"url(#p483c8293ab)\">\r\n",
       "     <use style=\"fill:#ffa500;stroke:#ffa500;\" x=\"480.494127\" xlink:href=\"#C0_0_c3167fb855\" y=\"472.155349\"/>\r\n",
       "    </g>\r\n",
       "    <g clip-path=\"url(#p483c8293ab)\">\r\n",
       "     <use style=\"fill:#ffffff;stroke:#ffffff;\" x=\"558.031552\" xlink:href=\"#C0_0_c3167fb855\" y=\"476.905835\"/>\r\n",
       "    </g>\r\n",
       "    <g clip-path=\"url(#p483c8293ab)\">\r\n",
       "     <use style=\"fill:#ffa500;stroke:#ffa500;\" x=\"647.494803\" xlink:href=\"#C0_0_c3167fb855\" y=\"412.252214\"/>\r\n",
       "    </g>\r\n",
       "    <g clip-path=\"url(#p483c8293ab)\">\r\n",
       "     <use style=\"fill:#ffa500;stroke:#ffa500;\" x=\"626.334655\" xlink:href=\"#C0_0_c3167fb855\" y=\"440.272858\"/>\r\n",
       "    </g>\r\n",
       "    <g clip-path=\"url(#p483c8293ab)\">\r\n",
       "     <use style=\"fill:#ffffff;stroke:#ffffff;\" x=\"706.165748\" xlink:href=\"#C0_0_c3167fb855\" y=\"407.482084\"/>\r\n",
       "    </g>\r\n",
       "    <g clip-path=\"url(#p483c8293ab)\">\r\n",
       "     <use style=\"fill:#ffa500;stroke:#ffa500;\" x=\"752.812289\" xlink:href=\"#C0_0_c3167fb855\" y=\"386.051153\"/>\r\n",
       "    </g>\r\n",
       "    <g clip-path=\"url(#p483c8293ab)\">\r\n",
       "     <use style=\"fill:#ffa500;stroke:#ffa500;\" x=\"752.275589\" xlink:href=\"#C0_0_c3167fb855\" y=\"428.535345\"/>\r\n",
       "    </g>\r\n",
       "    <g clip-path=\"url(#p483c8293ab)\">\r\n",
       "     <use style=\"fill:#ffa500;stroke:#ffa500;\" x=\"806.154545\" xlink:href=\"#C0_0_c3167fb855\" y=\"380.611898\"/>\r\n",
       "    </g>\r\n",
       "    <g clip-path=\"url(#p483c8293ab)\">\r\n",
       "     <use style=\"fill:#ffa500;stroke:#ffa500;\" x=\"433.886022\" xlink:href=\"#C0_0_c3167fb855\" y=\"102.199175\"/>\r\n",
       "    </g>\r\n",
       "    <g clip-path=\"url(#p483c8293ab)\">\r\n",
       "     <use style=\"fill:#ffa500;stroke:#ffa500;\" x=\"395.475908\" xlink:href=\"#C0_0_c3167fb855\" y=\"133.616848\"/>\r\n",
       "    </g>\r\n",
       "    <g clip-path=\"url(#p483c8293ab)\">\r\n",
       "     <use style=\"fill:#ffa500;stroke:#ffa500;\" x=\"362.600039\" xlink:href=\"#C0_0_c3167fb855\" y=\"160.476916\"/>\r\n",
       "    </g>\r\n",
       "    <g clip-path=\"url(#p483c8293ab)\">\r\n",
       "     <use style=\"fill:#ffa500;stroke:#ffa500;\" x=\"328.884258\" xlink:href=\"#C0_0_c3167fb855\" y=\"200.12551\"/>\r\n",
       "    </g>\r\n",
       "    <g clip-path=\"url(#p483c8293ab)\">\r\n",
       "     <use style=\"fill:#ffffff;stroke:#ffffff;\" x=\"345.792684\" xlink:href=\"#C0_0_c3167fb855\" y=\"119.771206\"/>\r\n",
       "    </g>\r\n",
       "    <g clip-path=\"url(#p483c8293ab)\">\r\n",
       "     <use style=\"fill:#ffffff;stroke:#ffffff;\" x=\"418.290915\" xlink:href=\"#C0_0_c3167fb855\" y=\"154.234031\"/>\r\n",
       "    </g>\r\n",
       "    <g clip-path=\"url(#p483c8293ab)\">\r\n",
       "     <use style=\"fill:#ffffff;stroke:#ffffff;\" x=\"261.673135\" xlink:href=\"#C0_0_c3167fb855\" y=\"201.419208\"/>\r\n",
       "    </g>\r\n",
       "    <g clip-path=\"url(#p483c8293ab)\">\r\n",
       "     <use style=\"fill:#ffffff;stroke:#ffffff;\" x=\"302.667833\" xlink:href=\"#C0_0_c3167fb855\" y=\"183.063593\"/>\r\n",
       "    </g>\r\n",
       "    <g clip-path=\"url(#p483c8293ab)\">\r\n",
       "     <use style=\"fill:#ffa500;stroke:#ffa500;\" x=\"108.316546\" xlink:href=\"#C0_0_c3167fb855\" y=\"785.536364\"/>\r\n",
       "    </g>\r\n",
       "    <g clip-path=\"url(#p483c8293ab)\">\r\n",
       "     <use style=\"fill:#ffa500;stroke:#ffa500;\" x=\"97.717519\" xlink:href=\"#C0_0_c3167fb855\" y=\"748.568407\"/>\r\n",
       "    </g>\r\n",
       "    <g clip-path=\"url(#p483c8293ab)\">\r\n",
       "     <use style=\"fill:#ffa500;stroke:#ffa500;\" x=\"124.198791\" xlink:href=\"#C0_0_c3167fb855\" y=\"716.025451\"/>\r\n",
       "    </g>\r\n",
       "    <g clip-path=\"url(#p483c8293ab)\">\r\n",
       "     <use style=\"fill:#ffa500;stroke:#ffa500;\" x=\"45.245455\" xlink:href=\"#C0_0_c3167fb855\" y=\"756.781229\"/>\r\n",
       "    </g>\r\n",
       "    <g clip-path=\"url(#p483c8293ab)\">\r\n",
       "     <use style=\"fill:#ffa500;stroke:#ffa500;\" x=\"141.117442\" xlink:href=\"#C0_0_c3167fb855\" y=\"679.112128\"/>\r\n",
       "    </g>\r\n",
       "    <g clip-path=\"url(#p483c8293ab)\">\r\n",
       "     <use style=\"fill:#ffffff;stroke:#ffffff;\" x=\"191.97718\" xlink:href=\"#C0_0_c3167fb855\" y=\"662.364636\"/>\r\n",
       "    </g>\r\n",
       "    <g clip-path=\"url(#p483c8293ab)\">\r\n",
       "     <use style=\"fill:#ffa500;stroke:#ffa500;\" x=\"89.888953\" xlink:href=\"#C0_0_c3167fb855\" y=\"665.818218\"/>\r\n",
       "    </g>\r\n",
       "    <g clip-path=\"url(#p483c8293ab)\">\r\n",
       "     <use style=\"fill:#ffffff;stroke:#ffffff;\" x=\"219.15881\" xlink:href=\"#C0_0_c3167fb855\" y=\"629.132425\"/>\r\n",
       "    </g>\r\n",
       "    <g clip-path=\"url(#p483c8293ab)\">\r\n",
       "     <use style=\"fill:#ffa500;stroke:#ffa500;\" x=\"221.732424\" xlink:href=\"#C0_0_c3167fb855\" y=\"695.189439\"/>\r\n",
       "    </g>\r\n",
       "    <g clip-path=\"url(#p483c8293ab)\">\r\n",
       "     <use style=\"fill:#ffa500;stroke:#ffa500;\" x=\"250.985697\" xlink:href=\"#C0_0_c3167fb855\" y=\"599.137541\"/>\r\n",
       "    </g>\r\n",
       "    <g clip-path=\"url(#p483c8293ab)\">\r\n",
       "     <use style=\"fill:#ffa500;stroke:#ffa500;\" x=\"285.755771\" xlink:href=\"#C0_0_c3167fb855\" y=\"569.429618\"/>\r\n",
       "    </g>\r\n",
       "    <g clip-path=\"url(#p483c8293ab)\">\r\n",
       "     <use style=\"fill:#ffffff;stroke:#ffffff;\" x=\"341.228994\" xlink:href=\"#C0_0_c3167fb855\" y=\"569.840344\"/>\r\n",
       "    </g>\r\n",
       "    <g clip-path=\"url(#p483c8293ab)\">\r\n",
       "     <use style=\"fill:#ffa500;stroke:#ffa500;\" x=\"386.295533\" xlink:href=\"#C0_0_c3167fb855\" y=\"543.337568\"/>\r\n",
       "    </g>\r\n",
       "    <g clip-path=\"url(#p483c8293ab)\">\r\n",
       "     <use style=\"fill:#ffffff;stroke:#ffffff;\" x=\"427.719058\" xlink:href=\"#C0_0_c3167fb855\" y=\"506.653893\"/>\r\n",
       "    </g>\r\n",
       "    <g clip-path=\"url(#p483c8293ab)\">\r\n",
       "     <use style=\"fill:#ffa500;stroke:#ffa500;\" x=\"309.715292\" xlink:href=\"#C0_0_c3167fb855\" y=\"92.847021\"/>\r\n",
       "    </g>\r\n",
       "    <g clip-path=\"url(#p483c8293ab)\">\r\n",
       "     <use style=\"fill:#ffffff;stroke:#ffffff;\" x=\"365.377969\" xlink:href=\"#C0_0_c3167fb855\" y=\"80.753933\"/>\r\n",
       "    </g>\r\n",
       "    <g clip-path=\"url(#p483c8293ab)\">\r\n",
       "     <use style=\"fill:#ffa500;stroke:#ffa500;\" x=\"225.747084\" xlink:href=\"#C0_0_c3167fb855\" y=\"223.953586\"/>\r\n",
       "    </g>\r\n",
       "    <g clip-path=\"url(#p483c8293ab)\">\r\n",
       "     <use style=\"fill:#ffa500;stroke:#ffa500;\" x=\"204.501112\" xlink:href=\"#C0_0_c3167fb855\" y=\"185.548626\"/>\r\n",
       "    </g>\r\n",
       "    <g clip-path=\"url(#p483c8293ab)\">\r\n",
       "     <use style=\"fill:#ffa500;stroke:#ffa500;\" x=\"431.991718\" xlink:href=\"#C0_0_c3167fb855\" y=\"525.928065\"/>\r\n",
       "    </g>\r\n",
       "    <g clip-path=\"url(#p483c8293ab)\">\r\n",
       "     <use style=\"fill:#ffffff;stroke:#ffffff;\" x=\"457.90999\" xlink:href=\"#C0_0_c3167fb855\" y=\"496.458959\"/>\r\n",
       "    </g>\r\n",
       "    <g clip-path=\"url(#p483c8293ab)\">\r\n",
       "     <use style=\"fill:#ffffff;stroke:#ffffff;\" x=\"408.355116\" xlink:href=\"#C0_0_c3167fb855\" y=\"463.441016\"/>\r\n",
       "    </g>\r\n",
       "    <g clip-path=\"url(#p483c8293ab)\">\r\n",
       "     <use style=\"fill:#ffa500;stroke:#ffa500;\" x=\"473.775186\" xlink:href=\"#C0_0_c3167fb855\" y=\"236.064577\"/>\r\n",
       "    </g>\r\n",
       "    <g clip-path=\"url(#p483c8293ab)\">\r\n",
       "     <use style=\"fill:#ffa500;stroke:#ffa500;\" x=\"626.32333\" xlink:href=\"#C0_0_c3167fb855\" y=\"583.097308\"/>\r\n",
       "    </g>\r\n",
       "    <g clip-path=\"url(#p483c8293ab)\">\r\n",
       "     <use style=\"fill:#ffa500;stroke:#ffa500;\" x=\"616.291305\" xlink:href=\"#C0_0_c3167fb855\" y=\"540.244543\"/>\r\n",
       "    </g>\r\n",
       "    <g clip-path=\"url(#p483c8293ab)\">\r\n",
       "     <use style=\"fill:#ffffff;stroke:#ffffff;\" x=\"658.670981\" xlink:href=\"#C0_0_c3167fb855\" y=\"614.678709\"/>\r\n",
       "    </g>\r\n",
       "    <g clip-path=\"url(#p483c8293ab)\">\r\n",
       "     <use style=\"fill:#ffa500;stroke:#ffa500;\" x=\"568.764618\" xlink:href=\"#C0_0_c3167fb855\" y=\"514.76589\"/>\r\n",
       "    </g>\r\n",
       "    <g clip-path=\"url(#p483c8293ab)\">\r\n",
       "     <use style=\"fill:#ffa500;stroke:#ffa500;\" x=\"675.46096\" xlink:href=\"#C0_0_c3167fb855\" y=\"533.067168\"/>\r\n",
       "    </g>\r\n",
       "    <g clip-path=\"url(#p483c8293ab)\">\r\n",
       "     <use style=\"fill:#ffa500;stroke:#ffa500;\" x=\"651.214254\" xlink:href=\"#C0_0_c3167fb855\" y=\"556.962212\"/>\r\n",
       "    </g>\r\n",
       "    <g clip-path=\"url(#p483c8293ab)\">\r\n",
       "     <use style=\"fill:#ffffff;stroke:#ffffff;\" x=\"512.155902\" xlink:href=\"#C0_0_c3167fb855\" y=\"523.417547\"/>\r\n",
       "    </g>\r\n",
       "    <g clip-path=\"url(#p483c8293ab)\">\r\n",
       "     <use style=\"fill:#ffa500;stroke:#ffa500;\" x=\"466.441956\" xlink:href=\"#C0_0_c3167fb855\" y=\"129.333112\"/>\r\n",
       "    </g>\r\n",
       "    <g clip-path=\"url(#p483c8293ab)\">\r\n",
       "     <use style=\"fill:#ffa500;stroke:#ffa500;\" x=\"695.84685\" xlink:href=\"#C0_0_c3167fb855\" y=\"640.260818\"/>\r\n",
       "    </g>\r\n",
       "    <g clip-path=\"url(#p483c8293ab)\">\r\n",
       "     <use style=\"fill:#ffa500;stroke:#ffa500;\" x=\"270.61444\" xlink:href=\"#C0_0_c3167fb855\" y=\"154.837467\"/>\r\n",
       "    </g>\r\n",
       "    <g clip-path=\"url(#p483c8293ab)\">\r\n",
       "     <use style=\"fill:#ffa500;stroke:#ffa500;\" x=\"100.810307\" xlink:href=\"#C0_0_c3167fb855\" y=\"156.690926\"/>\r\n",
       "    </g>\r\n",
       "    <g clip-path=\"url(#p483c8293ab)\">\r\n",
       "     <use style=\"fill:#ffffff;stroke:#ffffff;\" x=\"150.648417\" xlink:href=\"#C0_0_c3167fb855\" y=\"171.574405\"/>\r\n",
       "    </g>\r\n",
       "    <g clip-path=\"url(#p483c8293ab)\">\r\n",
       "     <use style=\"fill:#ffa500;stroke:#ffa500;\" x=\"54.947105\" xlink:href=\"#C0_0_c3167fb855\" y=\"139.724883\"/>\r\n",
       "    </g>\r\n",
       "    <g clip-path=\"url(#p483c8293ab)\">\r\n",
       "     <use style=\"fill:#ffa500;stroke:#ffa500;\" x=\"143.560869\" xlink:href=\"#C0_0_c3167fb855\" y=\"132.604612\"/>\r\n",
       "    </g>\r\n",
       "    <g clip-path=\"url(#p483c8293ab)\">\r\n",
       "     <use style=\"fill:#ffa500;stroke:#ffa500;\" x=\"106.915064\" xlink:href=\"#C0_0_c3167fb855\" y=\"195.236584\"/>\r\n",
       "    </g>\r\n",
       "    <g clip-path=\"url(#p483c8293ab)\">\r\n",
       "     <use style=\"fill:#ffa500;stroke:#ffa500;\" x=\"526.850787\" xlink:href=\"#C0_0_c3167fb855\" y=\"558.212175\"/>\r\n",
       "    </g>\r\n",
       "    <g clip-path=\"url(#p483c8293ab)\">\r\n",
       "     <use style=\"fill:#ffa500;stroke:#ffa500;\" x=\"495.321234\" xlink:href=\"#C0_0_c3167fb855\" y=\"560.952729\"/>\r\n",
       "    </g>\r\n",
       "    <g clip-path=\"url(#p483c8293ab)\">\r\n",
       "     <use style=\"fill:#ffa500;stroke:#ffa500;\" x=\"728.820501\" xlink:href=\"#C0_0_c3167fb855\" y=\"544.739913\"/>\r\n",
       "    </g>\r\n",
       "    <g clip-path=\"url(#p483c8293ab)\">\r\n",
       "     <use style=\"fill:#ffffff;stroke:#ffffff;\" x=\"539.592771\" xlink:href=\"#C0_0_c3167fb855\" y=\"342.621397\"/>\r\n",
       "    </g>\r\n",
       "    <g clip-path=\"url(#p483c8293ab)\">\r\n",
       "     <use style=\"fill:#ffa500;stroke:#ffa500;\" x=\"586.909735\" xlink:href=\"#C0_0_c3167fb855\" y=\"320.784675\"/>\r\n",
       "    </g>\r\n",
       "    <g clip-path=\"url(#p483c8293ab)\">\r\n",
       "     <use style=\"fill:#ffa500;stroke:#ffa500;\" x=\"377.809239\" xlink:href=\"#C0_0_c3167fb855\" y=\"44.263636\"/>\r\n",
       "    </g>\r\n",
       "    <g clip-path=\"url(#p483c8293ab)\">\r\n",
       "     <use style=\"fill:#ffffff;stroke:#ffffff;\" x=\"273.04083\" xlink:href=\"#C0_0_c3167fb855\" y=\"532.045048\"/>\r\n",
       "    </g>\r\n",
       "    <g clip-path=\"url(#p483c8293ab)\">\r\n",
       "     <use style=\"fill:#ffffff;stroke:#ffffff;\" x=\"301.07898\" xlink:href=\"#C0_0_c3167fb855\" y=\"499.205363\"/>\r\n",
       "    </g>\r\n",
       "    <g clip-path=\"url(#p483c8293ab)\">\r\n",
       "     <use style=\"fill:#ffffff;stroke:#ffffff;\" x=\"350.236106\" xlink:href=\"#C0_0_c3167fb855\" y=\"477.260188\"/>\r\n",
       "    </g>\r\n",
       "   </g>\r\n",
       "   <g id=\"text_1\">\r\n",
       "    <g clip-path=\"url(#p483c8293ab)\">\r\n",
       "     <!-- 5 -->\r\n",
       "     <defs>\r\n",
       "      <path d=\"M 10.796875 72.90625 \r\n",
       "L 49.515625 72.90625 \r\n",
       "L 49.515625 64.59375 \r\n",
       "L 19.828125 64.59375 \r\n",
       "L 19.828125 46.734375 \r\n",
       "Q 21.96875 47.46875 24.109375 47.828125 \r\n",
       "Q 26.265625 48.1875 28.421875 48.1875 \r\n",
       "Q 40.625 48.1875 47.75 41.5 \r\n",
       "Q 54.890625 34.8125 54.890625 23.390625 \r\n",
       "Q 54.890625 11.625 47.5625 5.09375 \r\n",
       "Q 40.234375 -1.421875 26.90625 -1.421875 \r\n",
       "Q 22.3125 -1.421875 17.546875 -0.640625 \r\n",
       "Q 12.796875 0.140625 7.71875 1.703125 \r\n",
       "L 7.71875 11.625 \r\n",
       "Q 12.109375 9.234375 16.796875 8.0625 \r\n",
       "Q 21.484375 6.890625 26.703125 6.890625 \r\n",
       "Q 35.15625 6.890625 40.078125 11.328125 \r\n",
       "Q 45.015625 15.765625 45.015625 23.390625 \r\n",
       "Q 45.015625 31 40.078125 35.4375 \r\n",
       "Q 35.15625 39.890625 26.703125 39.890625 \r\n",
       "Q 22.75 39.890625 18.8125 39.015625 \r\n",
       "Q 14.890625 38.140625 10.796875 36.28125 \r\n",
       "z\r\n",
       "\" id=\"DejaVuSans-53\"/>\r\n",
       "     </defs>\r\n",
       "     <g transform=\"translate(372.285523 278.314652)scale(0.12 -0.12)\">\r\n",
       "      <use xlink:href=\"#DejaVuSans-53\"/>\r\n",
       "     </g>\r\n",
       "    </g>\r\n",
       "   </g>\r\n",
       "   <g id=\"text_2\">\r\n",
       "    <g clip-path=\"url(#p483c8293ab)\">\r\n",
       "     <!-- 70 -->\r\n",
       "     <defs>\r\n",
       "      <path d=\"M 8.203125 72.90625 \r\n",
       "L 55.078125 72.90625 \r\n",
       "L 55.078125 68.703125 \r\n",
       "L 28.609375 0 \r\n",
       "L 18.3125 0 \r\n",
       "L 43.21875 64.59375 \r\n",
       "L 8.203125 64.59375 \r\n",
       "z\r\n",
       "\" id=\"DejaVuSans-55\"/>\r\n",
       "      <path d=\"M 31.78125 66.40625 \r\n",
       "Q 24.171875 66.40625 20.328125 58.90625 \r\n",
       "Q 16.5 51.421875 16.5 36.375 \r\n",
       "Q 16.5 21.390625 20.328125 13.890625 \r\n",
       "Q 24.171875 6.390625 31.78125 6.390625 \r\n",
       "Q 39.453125 6.390625 43.28125 13.890625 \r\n",
       "Q 47.125 21.390625 47.125 36.375 \r\n",
       "Q 47.125 51.421875 43.28125 58.90625 \r\n",
       "Q 39.453125 66.40625 31.78125 66.40625 \r\n",
       "z\r\n",
       "M 31.78125 74.21875 \r\n",
       "Q 44.046875 74.21875 50.515625 64.515625 \r\n",
       "Q 56.984375 54.828125 56.984375 36.375 \r\n",
       "Q 56.984375 17.96875 50.515625 8.265625 \r\n",
       "Q 44.046875 -1.421875 31.78125 -1.421875 \r\n",
       "Q 19.53125 -1.421875 13.0625 8.265625 \r\n",
       "Q 6.59375 17.96875 6.59375 36.375 \r\n",
       "Q 6.59375 54.828125 13.0625 64.515625 \r\n",
       "Q 19.53125 74.21875 31.78125 74.21875 \r\n",
       "z\r\n",
       "\" id=\"DejaVuSans-48\"/>\r\n",
       "     </defs>\r\n",
       "     <g transform=\"translate(385.871216 318.951393)scale(0.12 -0.12)\">\r\n",
       "      <use xlink:href=\"#DejaVuSans-55\"/>\r\n",
       "      <use x=\"63.623047\" xlink:href=\"#DejaVuSans-48\"/>\r\n",
       "     </g>\r\n",
       "    </g>\r\n",
       "   </g>\r\n",
       "   <g id=\"text_3\">\r\n",
       "    <g clip-path=\"url(#p483c8293ab)\">\r\n",
       "     <!-- 77 -->\r\n",
       "     <g transform=\"translate(342.053714 241.563275)scale(0.12 -0.12)\">\r\n",
       "      <use xlink:href=\"#DejaVuSans-55\"/>\r\n",
       "      <use x=\"63.623047\" xlink:href=\"#DejaVuSans-55\"/>\r\n",
       "     </g>\r\n",
       "    </g>\r\n",
       "   </g>\r\n",
       "   <g id=\"text_4\">\r\n",
       "    <g clip-path=\"url(#p483c8293ab)\">\r\n",
       "     <!-- 98 -->\r\n",
       "     <defs>\r\n",
       "      <path d=\"M 10.984375 1.515625 \r\n",
       "L 10.984375 10.5 \r\n",
       "Q 14.703125 8.734375 18.5 7.8125 \r\n",
       "Q 22.3125 6.890625 25.984375 6.890625 \r\n",
       "Q 35.75 6.890625 40.890625 13.453125 \r\n",
       "Q 46.046875 20.015625 46.78125 33.40625 \r\n",
       "Q 43.953125 29.203125 39.59375 26.953125 \r\n",
       "Q 35.25 24.703125 29.984375 24.703125 \r\n",
       "Q 19.046875 24.703125 12.671875 31.3125 \r\n",
       "Q 6.296875 37.9375 6.296875 49.421875 \r\n",
       "Q 6.296875 60.640625 12.9375 67.421875 \r\n",
       "Q 19.578125 74.21875 30.609375 74.21875 \r\n",
       "Q 43.265625 74.21875 49.921875 64.515625 \r\n",
       "Q 56.59375 54.828125 56.59375 36.375 \r\n",
       "Q 56.59375 19.140625 48.40625 8.859375 \r\n",
       "Q 40.234375 -1.421875 26.421875 -1.421875 \r\n",
       "Q 22.703125 -1.421875 18.890625 -0.6875 \r\n",
       "Q 15.09375 0.046875 10.984375 1.515625 \r\n",
       "z\r\n",
       "M 30.609375 32.421875 \r\n",
       "Q 37.25 32.421875 41.125 36.953125 \r\n",
       "Q 45.015625 41.5 45.015625 49.421875 \r\n",
       "Q 45.015625 57.28125 41.125 61.84375 \r\n",
       "Q 37.25 66.40625 30.609375 66.40625 \r\n",
       "Q 23.96875 66.40625 20.09375 61.84375 \r\n",
       "Q 16.21875 57.28125 16.21875 49.421875 \r\n",
       "Q 16.21875 41.5 20.09375 36.953125 \r\n",
       "Q 23.96875 32.421875 30.609375 32.421875 \r\n",
       "z\r\n",
       "\" id=\"DejaVuSans-57\"/>\r\n",
       "      <path d=\"M 31.78125 34.625 \r\n",
       "Q 24.75 34.625 20.71875 30.859375 \r\n",
       "Q 16.703125 27.09375 16.703125 20.515625 \r\n",
       "Q 16.703125 13.921875 20.71875 10.15625 \r\n",
       "Q 24.75 6.390625 31.78125 6.390625 \r\n",
       "Q 38.8125 6.390625 42.859375 10.171875 \r\n",
       "Q 46.921875 13.96875 46.921875 20.515625 \r\n",
       "Q 46.921875 27.09375 42.890625 30.859375 \r\n",
       "Q 38.875 34.625 31.78125 34.625 \r\n",
       "z\r\n",
       "M 21.921875 38.8125 \r\n",
       "Q 15.578125 40.375 12.03125 44.71875 \r\n",
       "Q 8.5 49.078125 8.5 55.328125 \r\n",
       "Q 8.5 64.0625 14.71875 69.140625 \r\n",
       "Q 20.953125 74.21875 31.78125 74.21875 \r\n",
       "Q 42.671875 74.21875 48.875 69.140625 \r\n",
       "Q 55.078125 64.0625 55.078125 55.328125 \r\n",
       "Q 55.078125 49.078125 51.53125 44.71875 \r\n",
       "Q 48 40.375 41.703125 38.8125 \r\n",
       "Q 48.828125 37.15625 52.796875 32.3125 \r\n",
       "Q 56.78125 27.484375 56.78125 20.515625 \r\n",
       "Q 56.78125 9.90625 50.3125 4.234375 \r\n",
       "Q 43.84375 -1.421875 31.78125 -1.421875 \r\n",
       "Q 19.734375 -1.421875 13.25 4.234375 \r\n",
       "Q 6.78125 9.90625 6.78125 20.515625 \r\n",
       "Q 6.78125 27.484375 10.78125 32.3125 \r\n",
       "Q 14.796875 37.15625 21.921875 38.8125 \r\n",
       "z\r\n",
       "M 18.3125 54.390625 \r\n",
       "Q 18.3125 48.734375 21.84375 45.5625 \r\n",
       "Q 25.390625 42.390625 31.78125 42.390625 \r\n",
       "Q 38.140625 42.390625 41.71875 45.5625 \r\n",
       "Q 45.3125 48.734375 45.3125 54.390625 \r\n",
       "Q 45.3125 60.0625 41.71875 63.234375 \r\n",
       "Q 38.140625 66.40625 31.78125 66.40625 \r\n",
       "Q 25.390625 66.40625 21.84375 63.234375 \r\n",
       "Q 18.3125 60.0625 18.3125 54.390625 \r\n",
       "z\r\n",
       "\" id=\"DejaVuSans-56\"/>\r\n",
       "     </defs>\r\n",
       "     <g transform=\"translate(416.601175 259.137482)scale(0.12 -0.12)\">\r\n",
       "      <use xlink:href=\"#DejaVuSans-57\"/>\r\n",
       "      <use x=\"63.623047\" xlink:href=\"#DejaVuSans-56\"/>\r\n",
       "     </g>\r\n",
       "    </g>\r\n",
       "   </g>\r\n",
       "   <g id=\"text_5\">\r\n",
       "    <g clip-path=\"url(#p483c8293ab)\">\r\n",
       "     <!-- 34 -->\r\n",
       "     <defs>\r\n",
       "      <path d=\"M 40.578125 39.3125 \r\n",
       "Q 47.65625 37.796875 51.625 33 \r\n",
       "Q 55.609375 28.21875 55.609375 21.1875 \r\n",
       "Q 55.609375 10.40625 48.1875 4.484375 \r\n",
       "Q 40.765625 -1.421875 27.09375 -1.421875 \r\n",
       "Q 22.515625 -1.421875 17.65625 -0.515625 \r\n",
       "Q 12.796875 0.390625 7.625 2.203125 \r\n",
       "L 7.625 11.71875 \r\n",
       "Q 11.71875 9.328125 16.59375 8.109375 \r\n",
       "Q 21.484375 6.890625 26.8125 6.890625 \r\n",
       "Q 36.078125 6.890625 40.9375 10.546875 \r\n",
       "Q 45.796875 14.203125 45.796875 21.1875 \r\n",
       "Q 45.796875 27.640625 41.28125 31.265625 \r\n",
       "Q 36.765625 34.90625 28.71875 34.90625 \r\n",
       "L 20.21875 34.90625 \r\n",
       "L 20.21875 43.015625 \r\n",
       "L 29.109375 43.015625 \r\n",
       "Q 36.375 43.015625 40.234375 45.921875 \r\n",
       "Q 44.09375 48.828125 44.09375 54.296875 \r\n",
       "Q 44.09375 59.90625 40.109375 62.90625 \r\n",
       "Q 36.140625 65.921875 28.71875 65.921875 \r\n",
       "Q 24.65625 65.921875 20.015625 65.03125 \r\n",
       "Q 15.375 64.15625 9.8125 62.3125 \r\n",
       "L 9.8125 71.09375 \r\n",
       "Q 15.4375 72.65625 20.34375 73.4375 \r\n",
       "Q 25.25 74.21875 29.59375 74.21875 \r\n",
       "Q 40.828125 74.21875 47.359375 69.109375 \r\n",
       "Q 53.90625 64.015625 53.90625 55.328125 \r\n",
       "Q 53.90625 49.265625 50.4375 45.09375 \r\n",
       "Q 46.96875 40.921875 40.578125 39.3125 \r\n",
       "z\r\n",
       "\" id=\"DejaVuSans-51\"/>\r\n",
       "      <path d=\"M 37.796875 64.3125 \r\n",
       "L 12.890625 25.390625 \r\n",
       "L 37.796875 25.390625 \r\n",
       "z\r\n",
       "M 35.203125 72.90625 \r\n",
       "L 47.609375 72.90625 \r\n",
       "L 47.609375 25.390625 \r\n",
       "L 58.015625 25.390625 \r\n",
       "L 58.015625 17.1875 \r\n",
       "L 47.609375 17.1875 \r\n",
       "L 47.609375 0 \r\n",
       "L 37.796875 0 \r\n",
       "L 37.796875 17.1875 \r\n",
       "L 4.890625 17.1875 \r\n",
       "L 4.890625 26.703125 \r\n",
       "z\r\n",
       "\" id=\"DejaVuSans-52\"/>\r\n",
       "     </defs>\r\n",
       "     <g transform=\"translate(321.375711 292.035291)scale(0.12 -0.12)\">\r\n",
       "      <use xlink:href=\"#DejaVuSans-51\"/>\r\n",
       "      <use x=\"63.623047\" xlink:href=\"#DejaVuSans-52\"/>\r\n",
       "     </g>\r\n",
       "    </g>\r\n",
       "   </g>\r\n",
       "   <g id=\"text_6\">\r\n",
       "    <g clip-path=\"url(#p483c8293ab)\">\r\n",
       "     <!-- 31 -->\r\n",
       "     <defs>\r\n",
       "      <path d=\"M 12.40625 8.296875 \r\n",
       "L 28.515625 8.296875 \r\n",
       "L 28.515625 63.921875 \r\n",
       "L 10.984375 60.40625 \r\n",
       "L 10.984375 69.390625 \r\n",
       "L 28.421875 72.90625 \r\n",
       "L 38.28125 72.90625 \r\n",
       "L 38.28125 8.296875 \r\n",
       "L 54.390625 8.296875 \r\n",
       "L 54.390625 0 \r\n",
       "L 12.40625 0 \r\n",
       "z\r\n",
       "\" id=\"DejaVuSans-49\"/>\r\n",
       "     </defs>\r\n",
       "     <g transform=\"translate(407.668523 357.065224)scale(0.12 -0.12)\">\r\n",
       "      <use xlink:href=\"#DejaVuSans-51\"/>\r\n",
       "      <use x=\"63.623047\" xlink:href=\"#DejaVuSans-49\"/>\r\n",
       "     </g>\r\n",
       "    </g>\r\n",
       "   </g>\r\n",
       "   <g id=\"text_7\">\r\n",
       "    <g clip-path=\"url(#p483c8293ab)\">\r\n",
       "     <!-- 38 -->\r\n",
       "     <g transform=\"translate(427.213417 305.174992)scale(0.12 -0.12)\">\r\n",
       "      <use xlink:href=\"#DejaVuSans-51\"/>\r\n",
       "      <use x=\"63.623047\" xlink:href=\"#DejaVuSans-56\"/>\r\n",
       "     </g>\r\n",
       "    </g>\r\n",
       "   </g>\r\n",
       "   <g id=\"text_8\">\r\n",
       "    <g clip-path=\"url(#p483c8293ab)\">\r\n",
       "     <!-- 19 -->\r\n",
       "     <g transform=\"translate(441.774332 391.162666)scale(0.12 -0.12)\">\r\n",
       "      <use xlink:href=\"#DejaVuSans-49\"/>\r\n",
       "      <use x=\"63.623047\" xlink:href=\"#DejaVuSans-57\"/>\r\n",
       "     </g>\r\n",
       "    </g>\r\n",
       "   </g>\r\n",
       "   <g id=\"text_9\">\r\n",
       "    <g clip-path=\"url(#p483c8293ab)\">\r\n",
       "     <!-- 18 -->\r\n",
       "     <g transform=\"translate(487.811424 414.888542)scale(0.12 -0.12)\">\r\n",
       "      <use xlink:href=\"#DejaVuSans-49\"/>\r\n",
       "      <use x=\"63.623047\" xlink:href=\"#DejaVuSans-56\"/>\r\n",
       "     </g>\r\n",
       "    </g>\r\n",
       "   </g>\r\n",
       "   <g id=\"text_10\">\r\n",
       "    <g clip-path=\"url(#p483c8293ab)\">\r\n",
       "     <!-- 87 -->\r\n",
       "     <g transform=\"translate(407.641199 424.118381)scale(0.12 -0.12)\">\r\n",
       "      <use xlink:href=\"#DejaVuSans-56\"/>\r\n",
       "      <use x=\"63.623047\" xlink:href=\"#DejaVuSans-55\"/>\r\n",
       "     </g>\r\n",
       "    </g>\r\n",
       "   </g>\r\n",
       "   <g id=\"text_11\">\r\n",
       "    <g clip-path=\"url(#p483c8293ab)\">\r\n",
       "     <!-- 59 -->\r\n",
       "     <g transform=\"translate(483.992259 368.283916)scale(0.12 -0.12)\">\r\n",
       "      <use xlink:href=\"#DejaVuSans-53\"/>\r\n",
       "      <use x=\"63.623047\" xlink:href=\"#DejaVuSans-57\"/>\r\n",
       "     </g>\r\n",
       "    </g>\r\n",
       "   </g>\r\n",
       "   <g id=\"text_12\">\r\n",
       "    <g clip-path=\"url(#p483c8293ab)\">\r\n",
       "     <!-- 57 -->\r\n",
       "     <g transform=\"translate(522.41876 447.782942)scale(0.12 -0.12)\">\r\n",
       "      <use xlink:href=\"#DejaVuSans-53\"/>\r\n",
       "      <use x=\"63.623047\" xlink:href=\"#DejaVuSans-55\"/>\r\n",
       "     </g>\r\n",
       "    </g>\r\n",
       "   </g>\r\n",
       "   <g id=\"text_13\">\r\n",
       "    <g clip-path=\"url(#p483c8293ab)\">\r\n",
       "     <!-- 12 -->\r\n",
       "     <defs>\r\n",
       "      <path d=\"M 19.1875 8.296875 \r\n",
       "L 53.609375 8.296875 \r\n",
       "L 53.609375 0 \r\n",
       "L 7.328125 0 \r\n",
       "L 7.328125 8.296875 \r\n",
       "Q 12.9375 14.109375 22.625 23.890625 \r\n",
       "Q 32.328125 33.6875 34.8125 36.53125 \r\n",
       "Q 39.546875 41.84375 41.421875 45.53125 \r\n",
       "Q 43.3125 49.21875 43.3125 52.78125 \r\n",
       "Q 43.3125 58.59375 39.234375 62.25 \r\n",
       "Q 35.15625 65.921875 28.609375 65.921875 \r\n",
       "Q 23.96875 65.921875 18.8125 64.3125 \r\n",
       "Q 13.671875 62.703125 7.8125 59.421875 \r\n",
       "L 7.8125 69.390625 \r\n",
       "Q 13.765625 71.78125 18.9375 73 \r\n",
       "Q 24.125 74.21875 28.421875 74.21875 \r\n",
       "Q 39.75 74.21875 46.484375 68.546875 \r\n",
       "Q 53.21875 62.890625 53.21875 53.421875 \r\n",
       "Q 53.21875 48.921875 51.53125 44.890625 \r\n",
       "Q 49.859375 40.875 45.40625 35.40625 \r\n",
       "Q 44.1875 33.984375 37.640625 27.21875 \r\n",
       "Q 31.109375 20.453125 19.1875 8.296875 \r\n",
       "z\r\n",
       "\" id=\"DejaVuSans-50\"/>\r\n",
       "     </defs>\r\n",
       "     <g transform=\"translate(579.697092 430.902338)scale(0.12 -0.12)\">\r\n",
       "      <use xlink:href=\"#DejaVuSans-49\"/>\r\n",
       "      <use x=\"63.623047\" xlink:href=\"#DejaVuSans-50\"/>\r\n",
       "     </g>\r\n",
       "    </g>\r\n",
       "   </g>\r\n",
       "   <g id=\"text_14\">\r\n",
       "    <g clip-path=\"url(#p483c8293ab)\">\r\n",
       "     <!-- 93 -->\r\n",
       "     <g transform=\"translate(472.859127 475.466599)scale(0.12 -0.12)\">\r\n",
       "      <use xlink:href=\"#DejaVuSans-57\"/>\r\n",
       "      <use x=\"63.623047\" xlink:href=\"#DejaVuSans-51\"/>\r\n",
       "     </g>\r\n",
       "    </g>\r\n",
       "   </g>\r\n",
       "   <g id=\"text_15\">\r\n",
       "    <g clip-path=\"url(#p483c8293ab)\">\r\n",
       "     <!-- 13 -->\r\n",
       "     <g transform=\"translate(550.396552 480.217085)scale(0.12 -0.12)\">\r\n",
       "      <use xlink:href=\"#DejaVuSans-49\"/>\r\n",
       "      <use x=\"63.623047\" xlink:href=\"#DejaVuSans-51\"/>\r\n",
       "     </g>\r\n",
       "    </g>\r\n",
       "   </g>\r\n",
       "   <g id=\"text_16\">\r\n",
       "    <g clip-path=\"url(#p483c8293ab)\">\r\n",
       "     <!-- 23 -->\r\n",
       "     <g transform=\"translate(639.859803 415.563464)scale(0.12 -0.12)\">\r\n",
       "      <use xlink:href=\"#DejaVuSans-50\"/>\r\n",
       "      <use x=\"63.623047\" xlink:href=\"#DejaVuSans-51\"/>\r\n",
       "     </g>\r\n",
       "    </g>\r\n",
       "   </g>\r\n",
       "   <g id=\"text_17\">\r\n",
       "    <g clip-path=\"url(#p483c8293ab)\">\r\n",
       "     <!-- 67 -->\r\n",
       "     <defs>\r\n",
       "      <path d=\"M 33.015625 40.375 \r\n",
       "Q 26.375 40.375 22.484375 35.828125 \r\n",
       "Q 18.609375 31.296875 18.609375 23.390625 \r\n",
       "Q 18.609375 15.53125 22.484375 10.953125 \r\n",
       "Q 26.375 6.390625 33.015625 6.390625 \r\n",
       "Q 39.65625 6.390625 43.53125 10.953125 \r\n",
       "Q 47.40625 15.53125 47.40625 23.390625 \r\n",
       "Q 47.40625 31.296875 43.53125 35.828125 \r\n",
       "Q 39.65625 40.375 33.015625 40.375 \r\n",
       "z\r\n",
       "M 52.59375 71.296875 \r\n",
       "L 52.59375 62.3125 \r\n",
       "Q 48.875 64.0625 45.09375 64.984375 \r\n",
       "Q 41.3125 65.921875 37.59375 65.921875 \r\n",
       "Q 27.828125 65.921875 22.671875 59.328125 \r\n",
       "Q 17.53125 52.734375 16.796875 39.40625 \r\n",
       "Q 19.671875 43.65625 24.015625 45.921875 \r\n",
       "Q 28.375 48.1875 33.59375 48.1875 \r\n",
       "Q 44.578125 48.1875 50.953125 41.515625 \r\n",
       "Q 57.328125 34.859375 57.328125 23.390625 \r\n",
       "Q 57.328125 12.15625 50.6875 5.359375 \r\n",
       "Q 44.046875 -1.421875 33.015625 -1.421875 \r\n",
       "Q 20.359375 -1.421875 13.671875 8.265625 \r\n",
       "Q 6.984375 17.96875 6.984375 36.375 \r\n",
       "Q 6.984375 53.65625 15.1875 63.9375 \r\n",
       "Q 23.390625 74.21875 37.203125 74.21875 \r\n",
       "Q 40.921875 74.21875 44.703125 73.484375 \r\n",
       "Q 48.484375 72.75 52.59375 71.296875 \r\n",
       "z\r\n",
       "\" id=\"DejaVuSans-54\"/>\r\n",
       "     </defs>\r\n",
       "     <g transform=\"translate(618.699655 443.584108)scale(0.12 -0.12)\">\r\n",
       "      <use xlink:href=\"#DejaVuSans-54\"/>\r\n",
       "      <use x=\"63.623047\" xlink:href=\"#DejaVuSans-55\"/>\r\n",
       "     </g>\r\n",
       "    </g>\r\n",
       "   </g>\r\n",
       "   <g id=\"text_18\">\r\n",
       "    <g clip-path=\"url(#p483c8293ab)\">\r\n",
       "     <!-- 39 -->\r\n",
       "     <g transform=\"translate(698.530748 410.793334)scale(0.12 -0.12)\">\r\n",
       "      <use xlink:href=\"#DejaVuSans-51\"/>\r\n",
       "      <use x=\"63.623047\" xlink:href=\"#DejaVuSans-57\"/>\r\n",
       "     </g>\r\n",
       "    </g>\r\n",
       "   </g>\r\n",
       "   <g id=\"text_19\">\r\n",
       "    <g clip-path=\"url(#p483c8293ab)\">\r\n",
       "     <!-- 83 -->\r\n",
       "     <g transform=\"translate(745.177289 389.362403)scale(0.12 -0.12)\">\r\n",
       "      <use xlink:href=\"#DejaVuSans-56\"/>\r\n",
       "      <use x=\"63.623047\" xlink:href=\"#DejaVuSans-51\"/>\r\n",
       "     </g>\r\n",
       "    </g>\r\n",
       "   </g>\r\n",
       "   <g id=\"text_20\">\r\n",
       "    <g clip-path=\"url(#p483c8293ab)\">\r\n",
       "     <!-- 66 -->\r\n",
       "     <g transform=\"translate(744.640589 431.846595)scale(0.12 -0.12)\">\r\n",
       "      <use xlink:href=\"#DejaVuSans-54\"/>\r\n",
       "      <use x=\"63.623047\" xlink:href=\"#DejaVuSans-54\"/>\r\n",
       "     </g>\r\n",
       "    </g>\r\n",
       "   </g>\r\n",
       "   <g id=\"text_21\">\r\n",
       "    <g clip-path=\"url(#p483c8293ab)\">\r\n",
       "     <!-- 95 -->\r\n",
       "     <g transform=\"translate(798.519545 383.923148)scale(0.12 -0.12)\">\r\n",
       "      <use xlink:href=\"#DejaVuSans-57\"/>\r\n",
       "      <use x=\"63.623047\" xlink:href=\"#DejaVuSans-53\"/>\r\n",
       "     </g>\r\n",
       "    </g>\r\n",
       "   </g>\r\n",
       "   <g id=\"text_22\">\r\n",
       "    <g clip-path=\"url(#p483c8293ab)\">\r\n",
       "     <!-- 9 -->\r\n",
       "     <g transform=\"translate(430.068522 105.510425)scale(0.12 -0.12)\">\r\n",
       "      <use xlink:href=\"#DejaVuSans-57\"/>\r\n",
       "     </g>\r\n",
       "    </g>\r\n",
       "   </g>\r\n",
       "   <g id=\"text_23\">\r\n",
       "    <g clip-path=\"url(#p483c8293ab)\">\r\n",
       "     <!-- 61 -->\r\n",
       "     <g transform=\"translate(387.840908 136.928098)scale(0.12 -0.12)\">\r\n",
       "      <use xlink:href=\"#DejaVuSans-54\"/>\r\n",
       "      <use x=\"63.623047\" xlink:href=\"#DejaVuSans-49\"/>\r\n",
       "     </g>\r\n",
       "    </g>\r\n",
       "   </g>\r\n",
       "   <g id=\"text_24\">\r\n",
       "    <g clip-path=\"url(#p483c8293ab)\">\r\n",
       "     <!-- 21 -->\r\n",
       "     <g transform=\"translate(354.965039 163.788166)scale(0.12 -0.12)\">\r\n",
       "      <use xlink:href=\"#DejaVuSans-50\"/>\r\n",
       "      <use x=\"63.623047\" xlink:href=\"#DejaVuSans-49\"/>\r\n",
       "     </g>\r\n",
       "    </g>\r\n",
       "   </g>\r\n",
       "   <g id=\"text_25\">\r\n",
       "    <g clip-path=\"url(#p483c8293ab)\">\r\n",
       "     <!-- 33 -->\r\n",
       "     <g transform=\"translate(321.249258 203.43676)scale(0.12 -0.12)\">\r\n",
       "      <use xlink:href=\"#DejaVuSans-51\"/>\r\n",
       "      <use x=\"63.623047\" xlink:href=\"#DejaVuSans-51\"/>\r\n",
       "     </g>\r\n",
       "    </g>\r\n",
       "   </g>\r\n",
       "   <g id=\"text_26\">\r\n",
       "    <g clip-path=\"url(#p483c8293ab)\">\r\n",
       "     <!-- 68 -->\r\n",
       "     <g transform=\"translate(338.157684 123.082456)scale(0.12 -0.12)\">\r\n",
       "      <use xlink:href=\"#DejaVuSans-54\"/>\r\n",
       "      <use x=\"63.623047\" xlink:href=\"#DejaVuSans-56\"/>\r\n",
       "     </g>\r\n",
       "    </g>\r\n",
       "   </g>\r\n",
       "   <g id=\"text_27\">\r\n",
       "    <g clip-path=\"url(#p483c8293ab)\">\r\n",
       "     <!-- 35 -->\r\n",
       "     <g transform=\"translate(410.655915 157.545281)scale(0.12 -0.12)\">\r\n",
       "      <use xlink:href=\"#DejaVuSans-51\"/>\r\n",
       "      <use x=\"63.623047\" xlink:href=\"#DejaVuSans-53\"/>\r\n",
       "     </g>\r\n",
       "    </g>\r\n",
       "   </g>\r\n",
       "   <g id=\"text_28\">\r\n",
       "    <g clip-path=\"url(#p483c8293ab)\">\r\n",
       "     <!-- 3 -->\r\n",
       "     <g transform=\"translate(257.855635 204.730458)scale(0.12 -0.12)\">\r\n",
       "      <use xlink:href=\"#DejaVuSans-51\"/>\r\n",
       "     </g>\r\n",
       "    </g>\r\n",
       "   </g>\r\n",
       "   <g id=\"text_29\">\r\n",
       "    <g clip-path=\"url(#p483c8293ab)\">\r\n",
       "     <!-- 73 -->\r\n",
       "     <g transform=\"translate(295.032833 186.374843)scale(0.12 -0.12)\">\r\n",
       "      <use xlink:href=\"#DejaVuSans-55\"/>\r\n",
       "      <use x=\"63.623047\" xlink:href=\"#DejaVuSans-51\"/>\r\n",
       "     </g>\r\n",
       "    </g>\r\n",
       "   </g>\r\n",
       "   <g id=\"text_30\">\r\n",
       "    <g clip-path=\"url(#p483c8293ab)\">\r\n",
       "     <!-- 11 -->\r\n",
       "     <g transform=\"translate(100.681546 788.847614)scale(0.12 -0.12)\">\r\n",
       "      <use xlink:href=\"#DejaVuSans-49\"/>\r\n",
       "      <use x=\"63.623047\" xlink:href=\"#DejaVuSans-49\"/>\r\n",
       "     </g>\r\n",
       "    </g>\r\n",
       "   </g>\r\n",
       "   <g id=\"text_31\">\r\n",
       "    <g clip-path=\"url(#p483c8293ab)\">\r\n",
       "     <!-- 85 -->\r\n",
       "     <g transform=\"translate(90.082519 751.879657)scale(0.12 -0.12)\">\r\n",
       "      <use xlink:href=\"#DejaVuSans-56\"/>\r\n",
       "      <use x=\"63.623047\" xlink:href=\"#DejaVuSans-53\"/>\r\n",
       "     </g>\r\n",
       "    </g>\r\n",
       "   </g>\r\n",
       "   <g id=\"text_32\">\r\n",
       "    <g clip-path=\"url(#p483c8293ab)\">\r\n",
       "     <!-- 100 -->\r\n",
       "     <g transform=\"translate(112.746291 719.336701)scale(0.12 -0.12)\">\r\n",
       "      <use xlink:href=\"#DejaVuSans-49\"/>\r\n",
       "      <use x=\"63.623047\" xlink:href=\"#DejaVuSans-48\"/>\r\n",
       "      <use x=\"127.246094\" xlink:href=\"#DejaVuSans-48\"/>\r\n",
       "     </g>\r\n",
       "    </g>\r\n",
       "   </g>\r\n",
       "   <g id=\"text_33\">\r\n",
       "    <g clip-path=\"url(#p483c8293ab)\">\r\n",
       "     <!-- 89 -->\r\n",
       "     <g transform=\"translate(37.610455 760.092479)scale(0.12 -0.12)\">\r\n",
       "      <use xlink:href=\"#DejaVuSans-56\"/>\r\n",
       "      <use x=\"63.623047\" xlink:href=\"#DejaVuSans-57\"/>\r\n",
       "     </g>\r\n",
       "    </g>\r\n",
       "   </g>\r\n",
       "   <g id=\"text_34\">\r\n",
       "    <g clip-path=\"url(#p483c8293ab)\">\r\n",
       "     <!-- 49 -->\r\n",
       "     <g transform=\"translate(133.482442 682.423378)scale(0.12 -0.12)\">\r\n",
       "      <use xlink:href=\"#DejaVuSans-52\"/>\r\n",
       "      <use x=\"63.623047\" xlink:href=\"#DejaVuSans-57\"/>\r\n",
       "     </g>\r\n",
       "    </g>\r\n",
       "   </g>\r\n",
       "   <g id=\"text_35\">\r\n",
       "    <g clip-path=\"url(#p483c8293ab)\">\r\n",
       "     <!-- 72 -->\r\n",
       "     <g transform=\"translate(184.34218 665.675886)scale(0.12 -0.12)\">\r\n",
       "      <use xlink:href=\"#DejaVuSans-55\"/>\r\n",
       "      <use x=\"63.623047\" xlink:href=\"#DejaVuSans-50\"/>\r\n",
       "     </g>\r\n",
       "    </g>\r\n",
       "   </g>\r\n",
       "   <g id=\"text_36\">\r\n",
       "    <g clip-path=\"url(#p483c8293ab)\">\r\n",
       "     <!-- 91 -->\r\n",
       "     <g transform=\"translate(82.253953 669.129468)scale(0.12 -0.12)\">\r\n",
       "      <use xlink:href=\"#DejaVuSans-57\"/>\r\n",
       "      <use x=\"63.623047\" xlink:href=\"#DejaVuSans-49\"/>\r\n",
       "     </g>\r\n",
       "    </g>\r\n",
       "   </g>\r\n",
       "   <g id=\"text_37\">\r\n",
       "    <g clip-path=\"url(#p483c8293ab)\">\r\n",
       "     <!-- 2 -->\r\n",
       "     <g transform=\"translate(215.34131 632.443675)scale(0.12 -0.12)\">\r\n",
       "      <use xlink:href=\"#DejaVuSans-50\"/>\r\n",
       "     </g>\r\n",
       "    </g>\r\n",
       "   </g>\r\n",
       "   <g id=\"text_38\">\r\n",
       "    <g clip-path=\"url(#p483c8293ab)\">\r\n",
       "     <!-- 43 -->\r\n",
       "     <g transform=\"translate(214.097424 698.500689)scale(0.12 -0.12)\">\r\n",
       "      <use xlink:href=\"#DejaVuSans-52\"/>\r\n",
       "      <use x=\"63.623047\" xlink:href=\"#DejaVuSans-51\"/>\r\n",
       "     </g>\r\n",
       "    </g>\r\n",
       "   </g>\r\n",
       "   <g id=\"text_39\">\r\n",
       "    <g clip-path=\"url(#p483c8293ab)\">\r\n",
       "     <!-- 82 -->\r\n",
       "     <g transform=\"translate(243.350697 602.448791)scale(0.12 -0.12)\">\r\n",
       "      <use xlink:href=\"#DejaVuSans-56\"/>\r\n",
       "      <use x=\"63.623047\" xlink:href=\"#DejaVuSans-50\"/>\r\n",
       "     </g>\r\n",
       "    </g>\r\n",
       "   </g>\r\n",
       "   <g id=\"text_40\">\r\n",
       "    <g clip-path=\"url(#p483c8293ab)\">\r\n",
       "     <!-- 81 -->\r\n",
       "     <g transform=\"translate(278.120771 572.740868)scale(0.12 -0.12)\">\r\n",
       "      <use xlink:href=\"#DejaVuSans-56\"/>\r\n",
       "      <use x=\"63.623047\" xlink:href=\"#DejaVuSans-49\"/>\r\n",
       "     </g>\r\n",
       "    </g>\r\n",
       "   </g>\r\n",
       "   <g id=\"text_41\">\r\n",
       "    <g clip-path=\"url(#p483c8293ab)\">\r\n",
       "     <!-- 56 -->\r\n",
       "     <g transform=\"translate(333.593994 573.151594)scale(0.12 -0.12)\">\r\n",
       "      <use xlink:href=\"#DejaVuSans-53\"/>\r\n",
       "      <use x=\"63.623047\" xlink:href=\"#DejaVuSans-54\"/>\r\n",
       "     </g>\r\n",
       "    </g>\r\n",
       "   </g>\r\n",
       "   <g id=\"text_42\">\r\n",
       "    <g clip-path=\"url(#p483c8293ab)\">\r\n",
       "     <!-- 69 -->\r\n",
       "     <g transform=\"translate(378.660533 546.648818)scale(0.12 -0.12)\">\r\n",
       "      <use xlink:href=\"#DejaVuSans-54\"/>\r\n",
       "      <use x=\"63.623047\" xlink:href=\"#DejaVuSans-57\"/>\r\n",
       "     </g>\r\n",
       "    </g>\r\n",
       "   </g>\r\n",
       "   <g id=\"text_43\">\r\n",
       "    <g clip-path=\"url(#p483c8293ab)\">\r\n",
       "     <!-- 6 -->\r\n",
       "     <g transform=\"translate(423.901558 509.965143)scale(0.12 -0.12)\">\r\n",
       "      <use xlink:href=\"#DejaVuSans-54\"/>\r\n",
       "     </g>\r\n",
       "    </g>\r\n",
       "   </g>\r\n",
       "   <g id=\"text_44\">\r\n",
       "    <g clip-path=\"url(#p483c8293ab)\">\r\n",
       "     <!-- 16 -->\r\n",
       "     <g transform=\"translate(302.080292 96.158271)scale(0.12 -0.12)\">\r\n",
       "      <use xlink:href=\"#DejaVuSans-49\"/>\r\n",
       "      <use x=\"63.623047\" xlink:href=\"#DejaVuSans-54\"/>\r\n",
       "     </g>\r\n",
       "    </g>\r\n",
       "   </g>\r\n",
       "   <g id=\"text_45\">\r\n",
       "    <g clip-path=\"url(#p483c8293ab)\">\r\n",
       "     <!-- 64 -->\r\n",
       "     <g transform=\"translate(357.742969 84.065183)scale(0.12 -0.12)\">\r\n",
       "      <use xlink:href=\"#DejaVuSans-54\"/>\r\n",
       "      <use x=\"63.623047\" xlink:href=\"#DejaVuSans-52\"/>\r\n",
       "     </g>\r\n",
       "    </g>\r\n",
       "   </g>\r\n",
       "   <g id=\"text_46\">\r\n",
       "    <g clip-path=\"url(#p483c8293ab)\">\r\n",
       "     <!-- 17 -->\r\n",
       "     <g transform=\"translate(218.112084 227.264836)scale(0.12 -0.12)\">\r\n",
       "      <use xlink:href=\"#DejaVuSans-49\"/>\r\n",
       "      <use x=\"63.623047\" xlink:href=\"#DejaVuSans-55\"/>\r\n",
       "     </g>\r\n",
       "    </g>\r\n",
       "   </g>\r\n",
       "   <g id=\"text_47\">\r\n",
       "    <g clip-path=\"url(#p483c8293ab)\">\r\n",
       "     <!-- 94 -->\r\n",
       "     <g transform=\"translate(196.866112 188.859876)scale(0.12 -0.12)\">\r\n",
       "      <use xlink:href=\"#DejaVuSans-57\"/>\r\n",
       "      <use x=\"63.623047\" xlink:href=\"#DejaVuSans-52\"/>\r\n",
       "     </g>\r\n",
       "    </g>\r\n",
       "   </g>\r\n",
       "   <g id=\"text_48\">\r\n",
       "    <g clip-path=\"url(#p483c8293ab)\">\r\n",
       "     <!-- 20 -->\r\n",
       "     <g transform=\"translate(424.356718 529.239315)scale(0.12 -0.12)\">\r\n",
       "      <use xlink:href=\"#DejaVuSans-50\"/>\r\n",
       "      <use x=\"63.623047\" xlink:href=\"#DejaVuSans-48\"/>\r\n",
       "     </g>\r\n",
       "    </g>\r\n",
       "   </g>\r\n",
       "   <g id=\"text_49\">\r\n",
       "    <g clip-path=\"url(#p483c8293ab)\">\r\n",
       "     <!-- 71 -->\r\n",
       "     <g transform=\"translate(450.27499 499.770209)scale(0.12 -0.12)\">\r\n",
       "      <use xlink:href=\"#DejaVuSans-55\"/>\r\n",
       "      <use x=\"63.623047\" xlink:href=\"#DejaVuSans-49\"/>\r\n",
       "     </g>\r\n",
       "    </g>\r\n",
       "   </g>\r\n",
       "   <g id=\"text_50\">\r\n",
       "    <g clip-path=\"url(#p483c8293ab)\">\r\n",
       "     <!-- 65 -->\r\n",
       "     <g transform=\"translate(400.720116 466.752266)scale(0.12 -0.12)\">\r\n",
       "      <use xlink:href=\"#DejaVuSans-54\"/>\r\n",
       "      <use x=\"63.623047\" xlink:href=\"#DejaVuSans-53\"/>\r\n",
       "     </g>\r\n",
       "    </g>\r\n",
       "   </g>\r\n",
       "   <g id=\"text_51\">\r\n",
       "    <g clip-path=\"url(#p483c8293ab)\">\r\n",
       "     <!-- 25 -->\r\n",
       "     <g transform=\"translate(466.140186 239.375827)scale(0.12 -0.12)\">\r\n",
       "      <use xlink:href=\"#DejaVuSans-50\"/>\r\n",
       "      <use x=\"63.623047\" xlink:href=\"#DejaVuSans-53\"/>\r\n",
       "     </g>\r\n",
       "    </g>\r\n",
       "   </g>\r\n",
       "   <g id=\"text_52\">\r\n",
       "    <g clip-path=\"url(#p483c8293ab)\">\r\n",
       "     <!-- 27 -->\r\n",
       "     <g transform=\"translate(618.68833 586.408558)scale(0.12 -0.12)\">\r\n",
       "      <use xlink:href=\"#DejaVuSans-50\"/>\r\n",
       "      <use x=\"63.623047\" xlink:href=\"#DejaVuSans-55\"/>\r\n",
       "     </g>\r\n",
       "    </g>\r\n",
       "   </g>\r\n",
       "   <g id=\"text_53\">\r\n",
       "    <g clip-path=\"url(#p483c8293ab)\">\r\n",
       "     <!-- 55 -->\r\n",
       "     <g transform=\"translate(608.656305 543.555793)scale(0.12 -0.12)\">\r\n",
       "      <use xlink:href=\"#DejaVuSans-53\"/>\r\n",
       "      <use x=\"63.623047\" xlink:href=\"#DejaVuSans-53\"/>\r\n",
       "     </g>\r\n",
       "    </g>\r\n",
       "   </g>\r\n",
       "   <g id=\"text_54\">\r\n",
       "    <g clip-path=\"url(#p483c8293ab)\">\r\n",
       "     <!-- 30 -->\r\n",
       "     <g transform=\"translate(651.035981 617.989959)scale(0.12 -0.12)\">\r\n",
       "      <use xlink:href=\"#DejaVuSans-51\"/>\r\n",
       "      <use x=\"63.623047\" xlink:href=\"#DejaVuSans-48\"/>\r\n",
       "     </g>\r\n",
       "    </g>\r\n",
       "   </g>\r\n",
       "   <g id=\"text_55\">\r\n",
       "    <g clip-path=\"url(#p483c8293ab)\">\r\n",
       "     <!-- 97 -->\r\n",
       "     <g transform=\"translate(561.129618 518.07714)scale(0.12 -0.12)\">\r\n",
       "      <use xlink:href=\"#DejaVuSans-57\"/>\r\n",
       "      <use x=\"63.623047\" xlink:href=\"#DejaVuSans-55\"/>\r\n",
       "     </g>\r\n",
       "    </g>\r\n",
       "   </g>\r\n",
       "   <g id=\"text_56\">\r\n",
       "    <g clip-path=\"url(#p483c8293ab)\">\r\n",
       "     <!-- 79 -->\r\n",
       "     <g transform=\"translate(667.82596 536.378418)scale(0.12 -0.12)\">\r\n",
       "      <use xlink:href=\"#DejaVuSans-55\"/>\r\n",
       "      <use x=\"63.623047\" xlink:href=\"#DejaVuSans-57\"/>\r\n",
       "     </g>\r\n",
       "    </g>\r\n",
       "   </g>\r\n",
       "   <g id=\"text_57\">\r\n",
       "    <g clip-path=\"url(#p483c8293ab)\">\r\n",
       "     <!-- 62 -->\r\n",
       "     <g transform=\"translate(643.579254 560.273462)scale(0.12 -0.12)\">\r\n",
       "      <use xlink:href=\"#DejaVuSans-54\"/>\r\n",
       "      <use x=\"63.623047\" xlink:href=\"#DejaVuSans-50\"/>\r\n",
       "     </g>\r\n",
       "    </g>\r\n",
       "   </g>\r\n",
       "   <g id=\"text_58\">\r\n",
       "    <g clip-path=\"url(#p483c8293ab)\">\r\n",
       "     <!-- 75 -->\r\n",
       "     <g transform=\"translate(504.520902 526.728797)scale(0.12 -0.12)\">\r\n",
       "      <use xlink:href=\"#DejaVuSans-55\"/>\r\n",
       "      <use x=\"63.623047\" xlink:href=\"#DejaVuSans-53\"/>\r\n",
       "     </g>\r\n",
       "    </g>\r\n",
       "   </g>\r\n",
       "   <g id=\"text_59\">\r\n",
       "    <g clip-path=\"url(#p483c8293ab)\">\r\n",
       "     <!-- 36 -->\r\n",
       "     <g transform=\"translate(458.806956 132.644362)scale(0.12 -0.12)\">\r\n",
       "      <use xlink:href=\"#DejaVuSans-51\"/>\r\n",
       "      <use x=\"63.623047\" xlink:href=\"#DejaVuSans-54\"/>\r\n",
       "     </g>\r\n",
       "    </g>\r\n",
       "   </g>\r\n",
       "   <g id=\"text_60\">\r\n",
       "    <g clip-path=\"url(#p483c8293ab)\">\r\n",
       "     <!-- 40 -->\r\n",
       "     <g transform=\"translate(688.21185 643.572068)scale(0.12 -0.12)\">\r\n",
       "      <use xlink:href=\"#DejaVuSans-52\"/>\r\n",
       "      <use x=\"63.623047\" xlink:href=\"#DejaVuSans-48\"/>\r\n",
       "     </g>\r\n",
       "    </g>\r\n",
       "   </g>\r\n",
       "   <g id=\"text_61\">\r\n",
       "    <g clip-path=\"url(#p483c8293ab)\">\r\n",
       "     <!-- 44 -->\r\n",
       "     <g transform=\"translate(262.97944 158.148717)scale(0.12 -0.12)\">\r\n",
       "      <use xlink:href=\"#DejaVuSans-52\"/>\r\n",
       "      <use x=\"63.623047\" xlink:href=\"#DejaVuSans-52\"/>\r\n",
       "     </g>\r\n",
       "    </g>\r\n",
       "   </g>\r\n",
       "   <g id=\"text_62\">\r\n",
       "    <g clip-path=\"url(#p483c8293ab)\">\r\n",
       "     <!-- 46 -->\r\n",
       "     <g transform=\"translate(93.175307 160.002176)scale(0.12 -0.12)\">\r\n",
       "      <use xlink:href=\"#DejaVuSans-52\"/>\r\n",
       "      <use x=\"63.623047\" xlink:href=\"#DejaVuSans-54\"/>\r\n",
       "     </g>\r\n",
       "    </g>\r\n",
       "   </g>\r\n",
       "   <g id=\"text_63\">\r\n",
       "    <g clip-path=\"url(#p483c8293ab)\">\r\n",
       "     <!-- 14 -->\r\n",
       "     <g transform=\"translate(143.013417 174.885655)scale(0.12 -0.12)\">\r\n",
       "      <use xlink:href=\"#DejaVuSans-49\"/>\r\n",
       "      <use x=\"63.623047\" xlink:href=\"#DejaVuSans-52\"/>\r\n",
       "     </g>\r\n",
       "    </g>\r\n",
       "   </g>\r\n",
       "   <g id=\"text_64\">\r\n",
       "    <g clip-path=\"url(#p483c8293ab)\">\r\n",
       "     <!-- 54 -->\r\n",
       "     <g transform=\"translate(47.312105 143.036133)scale(0.12 -0.12)\">\r\n",
       "      <use xlink:href=\"#DejaVuSans-53\"/>\r\n",
       "      <use x=\"63.623047\" xlink:href=\"#DejaVuSans-52\"/>\r\n",
       "     </g>\r\n",
       "    </g>\r\n",
       "   </g>\r\n",
       "   <g id=\"text_65\">\r\n",
       "    <g clip-path=\"url(#p483c8293ab)\">\r\n",
       "     <!-- 51 -->\r\n",
       "     <g transform=\"translate(135.925869 135.915862)scale(0.12 -0.12)\">\r\n",
       "      <use xlink:href=\"#DejaVuSans-53\"/>\r\n",
       "      <use x=\"63.623047\" xlink:href=\"#DejaVuSans-49\"/>\r\n",
       "     </g>\r\n",
       "    </g>\r\n",
       "   </g>\r\n",
       "   <g id=\"text_66\">\r\n",
       "    <g clip-path=\"url(#p483c8293ab)\">\r\n",
       "     <!-- 84 -->\r\n",
       "     <g transform=\"translate(99.280064 198.547834)scale(0.12 -0.12)\">\r\n",
       "      <use xlink:href=\"#DejaVuSans-56\"/>\r\n",
       "      <use x=\"63.623047\" xlink:href=\"#DejaVuSans-52\"/>\r\n",
       "     </g>\r\n",
       "    </g>\r\n",
       "   </g>\r\n",
       "   <g id=\"text_67\">\r\n",
       "    <g clip-path=\"url(#p483c8293ab)\">\r\n",
       "     <!-- 50 -->\r\n",
       "     <g transform=\"translate(519.215787 561.523425)scale(0.12 -0.12)\">\r\n",
       "      <use xlink:href=\"#DejaVuSans-53\"/>\r\n",
       "      <use x=\"63.623047\" xlink:href=\"#DejaVuSans-48\"/>\r\n",
       "     </g>\r\n",
       "    </g>\r\n",
       "   </g>\r\n",
       "   <g id=\"text_68\">\r\n",
       "    <g clip-path=\"url(#p483c8293ab)\">\r\n",
       "     <!-- 58 -->\r\n",
       "     <g transform=\"translate(487.686234 564.263979)scale(0.12 -0.12)\">\r\n",
       "      <use xlink:href=\"#DejaVuSans-53\"/>\r\n",
       "      <use x=\"63.623047\" xlink:href=\"#DejaVuSans-56\"/>\r\n",
       "     </g>\r\n",
       "    </g>\r\n",
       "   </g>\r\n",
       "   <g id=\"text_69\">\r\n",
       "    <g clip-path=\"url(#p483c8293ab)\">\r\n",
       "     <!-- 52 -->\r\n",
       "     <g transform=\"translate(721.185501 548.051163)scale(0.12 -0.12)\">\r\n",
       "      <use xlink:href=\"#DejaVuSans-53\"/>\r\n",
       "      <use x=\"63.623047\" xlink:href=\"#DejaVuSans-50\"/>\r\n",
       "     </g>\r\n",
       "    </g>\r\n",
       "   </g>\r\n",
       "   <g id=\"text_70\">\r\n",
       "    <g clip-path=\"url(#p483c8293ab)\">\r\n",
       "     <!-- 76 -->\r\n",
       "     <g transform=\"translate(531.957771 345.932647)scale(0.12 -0.12)\">\r\n",
       "      <use xlink:href=\"#DejaVuSans-55\"/>\r\n",
       "      <use x=\"63.623047\" xlink:href=\"#DejaVuSans-54\"/>\r\n",
       "     </g>\r\n",
       "    </g>\r\n",
       "   </g>\r\n",
       "   <g id=\"text_71\">\r\n",
       "    <g clip-path=\"url(#p483c8293ab)\">\r\n",
       "     <!-- 60 -->\r\n",
       "     <g transform=\"translate(579.274735 324.095925)scale(0.12 -0.12)\">\r\n",
       "      <use xlink:href=\"#DejaVuSans-54\"/>\r\n",
       "      <use x=\"63.623047\" xlink:href=\"#DejaVuSans-48\"/>\r\n",
       "     </g>\r\n",
       "    </g>\r\n",
       "   </g>\r\n",
       "   <g id=\"text_72\">\r\n",
       "    <g clip-path=\"url(#p483c8293ab)\">\r\n",
       "     <!-- 88 -->\r\n",
       "     <g transform=\"translate(370.174239 47.574886)scale(0.12 -0.12)\">\r\n",
       "      <use xlink:href=\"#DejaVuSans-56\"/>\r\n",
       "      <use x=\"63.623047\" xlink:href=\"#DejaVuSans-56\"/>\r\n",
       "     </g>\r\n",
       "    </g>\r\n",
       "   </g>\r\n",
       "   <g id=\"text_73\">\r\n",
       "    <g clip-path=\"url(#p483c8293ab)\">\r\n",
       "     <!-- 4 -->\r\n",
       "     <g transform=\"translate(269.22333 535.356298)scale(0.12 -0.12)\">\r\n",
       "      <use xlink:href=\"#DejaVuSans-52\"/>\r\n",
       "     </g>\r\n",
       "    </g>\r\n",
       "   </g>\r\n",
       "   <g id=\"text_74\">\r\n",
       "    <g clip-path=\"url(#p483c8293ab)\">\r\n",
       "     <!-- 42 -->\r\n",
       "     <g transform=\"translate(293.44398 502.516613)scale(0.12 -0.12)\">\r\n",
       "      <use xlink:href=\"#DejaVuSans-52\"/>\r\n",
       "      <use x=\"63.623047\" xlink:href=\"#DejaVuSans-50\"/>\r\n",
       "     </g>\r\n",
       "    </g>\r\n",
       "   </g>\r\n",
       "   <g id=\"text_75\">\r\n",
       "    <g clip-path=\"url(#p483c8293ab)\">\r\n",
       "     <!-- 90 -->\r\n",
       "     <g transform=\"translate(342.601106 480.571438)scale(0.12 -0.12)\">\r\n",
       "      <use xlink:href=\"#DejaVuSans-57\"/>\r\n",
       "      <use x=\"63.623047\" xlink:href=\"#DejaVuSans-48\"/>\r\n",
       "     </g>\r\n",
       "    </g>\r\n",
       "   </g>\r\n",
       "  </g>\r\n",
       " </g>\r\n",
       " <defs>\r\n",
       "  <clipPath id=\"p483c8293ab\">\r\n",
       "   <rect height=\"815.4\" width=\"837\" x=\"7.2\" y=\"7.2\"/>\r\n",
       "  </clipPath>\r\n",
       " </defs>\r\n",
       "</svg>\r\n"
      ],
      "text/plain": [
       "<Figure size 1080x1080 with 1 Axes>"
      ]
     },
     "metadata": {},
     "output_type": "display_data"
    },
    {
     "data": {
      "text/plain": [
       "<networkx.classes.graph.Graph at 0x25a3a9a5e80>"
      ]
     },
     "execution_count": 26,
     "metadata": {},
     "output_type": "execute_result"
    }
   ],
   "source": [
    "plt.figure(figsize=(15,15))\n",
    "\n",
    "draw_common(g_union, stpg.terminals, aa, bb)"
   ]
  },
  {
   "cell_type": "code",
   "execution_count": 27,
   "metadata": {},
   "outputs": [],
   "source": [
    "# os vértices diferentes possuem os mesmos pais\n",
    "def test_2(right, left, commonset):\n",
    "    \n",
    "    diff_right = right.portal - left.portal\n",
    "    diff_left  = left.portal - right.portal\n",
    "    \n",
    "    portal_right = set(map(lambda x : commonset.find(x), diff_right))\n",
    "    portal_left  = set(map(lambda x : commonset.find(x), diff_left))\n",
    "    \n",
    "    return portal_right == portal_left"
   ]
  },
  {
   "cell_type": "code",
   "execution_count": 28,
   "metadata": {},
   "outputs": [
    {
     "data": {
      "text/plain": [
       "[<pxcrossover.Component at 0x25a3a9a5610>,\n",
       " <pxcrossover.Component at 0x25a3a9a5670>]"
      ]
     },
     "execution_count": 28,
     "metadata": {},
     "output_type": "execute_result"
    }
   ],
   "source": [
    "first"
   ]
  },
  {
   "cell_type": "code",
   "execution_count": 29,
   "metadata": {},
   "outputs": [
    {
     "data": {
      "text/plain": [
       "[<pxcrossover.Component at 0x25a3a9a56d0>,\n",
       " <pxcrossover.Component at 0x25a3a9a5730>]"
      ]
     },
     "execution_count": 29,
     "metadata": {},
     "output_type": "execute_result"
    }
   ],
   "source": [
    "second"
   ]
  },
  {
   "cell_type": "code",
   "execution_count": 30,
   "metadata": {},
   "outputs": [],
   "source": [
    "matches = dict()\n",
    "\n",
    "for component in first:\n",
    "    ss = frozenset(previous.find(v) for v in component.portal)\n",
    "    matches[ss] = [component]"
   ]
  },
  {
   "cell_type": "code",
   "execution_count": 31,
   "metadata": {},
   "outputs": [],
   "source": [
    "non_second = list()\n",
    "\n",
    "for component in second:\n",
    "    ss = frozenset(previous.find(v) for v in component.portal)\n",
    "    if ss in matches:\n",
    "        matches[ss].append(component)\n",
    "    else:\n",
    "        non_second.append(component)"
   ]
  },
  {
   "cell_type": "code",
   "execution_count": 32,
   "metadata": {},
   "outputs": [
    {
     "data": {
      "text/plain": [
       "{71: None, 75: 71}"
      ]
     },
     "execution_count": 32,
     "metadata": {},
     "output_type": "execute_result"
    }
   ],
   "source": [
    "component.edges"
   ]
  },
  {
   "cell_type": "code",
   "execution_count": 33,
   "metadata": {},
   "outputs": [
    {
     "data": {
      "text/plain": [
       "2"
      ]
     },
     "execution_count": 33,
     "metadata": {},
     "output_type": "execute_result"
    }
   ],
   "source": [
    "len(matches)"
   ]
  },
  {
   "cell_type": "code",
   "execution_count": 34,
   "metadata": {},
   "outputs": [
    {
     "data": {
      "text/plain": [
       "{frozenset({18, 50}): [<pxcrossover.Component at 0x25a3a9a5610>,\n",
       "  <pxcrossover.Component at 0x25a3a9a5730>],\n",
       " frozenset({18, 82}): [<pxcrossover.Component at 0x25a3a9a5670>,\n",
       "  <pxcrossover.Component at 0x25a3a9a56d0>]}"
      ]
     },
     "execution_count": 34,
     "metadata": {},
     "output_type": "execute_result"
    }
   ],
   "source": [
    "matches"
   ]
  },
  {
   "cell_type": "code",
   "execution_count": 35,
   "metadata": {},
   "outputs": [],
   "source": [
    "get_cost = attrgetter('cost')\n",
    "\n",
    "success = 0\n",
    "fail = 0\n",
    "\n",
    "non_first = list()\n",
    "how_many = list()\n",
    "\n",
    "minimum_cost = list()\n",
    "\n",
    "for key, components in matches.items():\n",
    "    if len(components) >= 2:\n",
    "        how_many.append(len(components))\n",
    "        success += 1 \n",
    "        minimum_cost.append(min(components, key=get_cost))\n",
    "    else:\n",
    "        print(len(components), end='\\t')\n",
    "        non_first.append(components.pop())\n",
    "        fail += 1"
   ]
  },
  {
   "cell_type": "code",
   "execution_count": 36,
   "metadata": {},
   "outputs": [
    {
     "name": "stdout",
     "output_type": "stream",
     "text": [
      "<pxcrossover.Component object at 0x0000025A3A9A5610> 1 {97, 75} True\n",
      "<pxcrossover.Component object at 0x0000025A3A9A5670> 5 {81, 69} False\n"
     ]
    }
   ],
   "source": [
    "if len(minimum_cost) < 7:\n",
    "    for c in minimum_cost: \n",
    "        print(c, c.cost, c.portal, stpg.graph.has_edge(*c.portal))"
   ]
  },
  {
   "cell_type": "code",
   "execution_count": 37,
   "metadata": {},
   "outputs": [
    {
     "data": {
      "text/plain": [
       "2"
      ]
     },
     "execution_count": 37,
     "metadata": {},
     "output_type": "execute_result"
    }
   ],
   "source": [
    "len(minimum_cost)"
   ]
  },
  {
   "cell_type": "code",
   "execution_count": 38,
   "metadata": {},
   "outputs": [
    {
     "data": {
      "text/plain": [
       "1"
      ]
     },
     "execution_count": 38,
     "metadata": {},
     "output_type": "execute_result"
    }
   ],
   "source": [
    "get_cost(component)"
   ]
  },
  {
   "cell_type": "code",
   "execution_count": 39,
   "metadata": {},
   "outputs": [
    {
     "data": {
      "text/plain": [
       "[2, 2]"
      ]
     },
     "execution_count": 39,
     "metadata": {},
     "output_type": "execute_result"
    }
   ],
   "source": [
    "how_many"
   ]
  },
  {
   "cell_type": "code",
   "execution_count": 40,
   "metadata": {},
   "outputs": [
    {
     "data": {
      "text/plain": [
       "2"
      ]
     },
     "execution_count": 40,
     "metadata": {},
     "output_type": "execute_result"
    }
   ],
   "source": [
    "success"
   ]
  },
  {
   "cell_type": "code",
   "execution_count": 41,
   "metadata": {},
   "outputs": [
    {
     "data": {
      "text/plain": [
       "0"
      ]
     },
     "execution_count": 41,
     "metadata": {},
     "output_type": "execute_result"
    }
   ],
   "source": [
    "fail"
   ]
  },
  {
   "cell_type": "code",
   "execution_count": 42,
   "metadata": {},
   "outputs": [
    {
     "data": {
      "text/plain": [
       "0"
      ]
     },
     "execution_count": 42,
     "metadata": {},
     "output_type": "execute_result"
    }
   ],
   "source": [
    "len(non_second)"
   ]
  },
  {
   "cell_type": "code",
   "execution_count": 43,
   "metadata": {},
   "outputs": [
    {
     "data": {
      "text/plain": [
       "0"
      ]
     },
     "execution_count": 43,
     "metadata": {},
     "output_type": "execute_result"
    }
   ],
   "source": [
    "len(non_first)"
   ]
  },
  {
   "cell_type": "code",
   "execution_count": 44,
   "metadata": {},
   "outputs": [],
   "source": [
    "total_first = 0\n",
    "for c in non_first:\n",
    "#     print(c, c.cost, c.portal, stpg.graph.has_edge(*c.portal))\n",
    "    total_first += c.cost"
   ]
  },
  {
   "cell_type": "code",
   "execution_count": 45,
   "metadata": {},
   "outputs": [],
   "source": [
    "total_second = 0\n",
    "for c in non_second: \n",
    "#     print(c, c.cost, c.portal, stpg.graph.has_edge(*c.portal))\n",
    "    total_second += c.cost"
   ]
  },
  {
   "cell_type": "code",
   "execution_count": 46,
   "metadata": {},
   "outputs": [
    {
     "name": "stdout",
     "output_type": "stream",
     "text": [
      "0\n",
      "0\n"
     ]
    }
   ],
   "source": [
    "print(total_first)\n",
    "print(total_second)"
   ]
  },
  {
   "cell_type": "code",
   "execution_count": 47,
   "metadata": {},
   "outputs": [],
   "source": [
    "if total_second < total_first:\n",
    "    selected = non_second\n",
    "else:\n",
    "    selected = non_first"
   ]
  },
  {
   "cell_type": "code",
   "execution_count": 48,
   "metadata": {},
   "outputs": [
    {
     "name": "stdout",
     "output_type": "stream",
     "text": [
      "1\n",
      "------\n",
      "5\n",
      "------\n"
     ]
    }
   ],
   "source": [
    "for component in minimum_cost:\n",
    "    print(component.cost)\n",
    "        \n",
    "    print(\"------\")"
   ]
  },
  {
   "cell_type": "code",
   "execution_count": 49,
   "metadata": {},
   "outputs": [
    {
     "data": {
      "text/plain": [
       "[<pxcrossover.Component at 0x25a3a9a5610>,\n",
       " <pxcrossover.Component at 0x25a3a9a5670>]"
      ]
     },
     "execution_count": 49,
     "metadata": {},
     "output_type": "execute_result"
    }
   ],
   "source": [
    "minimum_cost"
   ]
  },
  {
   "cell_type": "code",
   "execution_count": 50,
   "metadata": {},
   "outputs": [],
   "source": [
    "for component in minimum_cost:\n",
    "    for v, u in component.edges.items():\n",
    "        if u is None:\n",
    "            continue\n",
    "        w = stpg.graph.W(v,u)\n",
    "        g_common.add_edge(v,u,weight=w)"
   ]
  },
  {
   "cell_type": "code",
   "execution_count": 51,
   "metadata": {},
   "outputs": [
    {
     "data": {
      "text/plain": [
       "(True,\n",
       " {'has_cycle': False,\n",
       "  'all_terminals_in': True,\n",
       "  'all_leaves_are_terminals': True,\n",
       "  'all_edges_are_reliable': True,\n",
       "  'graph_is_connected': True})"
      ]
     },
     "execution_count": 51,
     "metadata": {},
     "output_type": "execute_result"
    }
   ],
   "source": [
    "is_steiner_tree(g_common, stpg)"
   ]
  },
  {
   "cell_type": "code",
   "execution_count": 52,
   "metadata": {},
   "outputs": [
    {
     "data": {
      "text/plain": [
       "0"
      ]
     },
     "execution_count": 52,
     "metadata": {},
     "output_type": "execute_result"
    }
   ],
   "source": [
    "len(selected)"
   ]
  },
  {
   "cell_type": "code",
   "execution_count": 53,
   "metadata": {},
   "outputs": [],
   "source": [
    "for component in selected:\n",
    "    for v, u in component.edges.items():\n",
    "        if u is None:\n",
    "            continue\n",
    "        w = stpg.graph.W(v,u)\n",
    "        g_common.add_edge(v,u,weight=w)"
   ]
  },
  {
   "cell_type": "code",
   "execution_count": 54,
   "metadata": {},
   "outputs": [
    {
     "data": {
      "text/plain": [
       "(True,\n",
       " {'has_cycle': False,\n",
       "  'all_terminals_in': True,\n",
       "  'all_leaves_are_terminals': True,\n",
       "  'all_edges_are_reliable': True,\n",
       "  'graph_is_connected': True})"
      ]
     },
     "execution_count": 54,
     "metadata": {},
     "output_type": "execute_result"
    }
   ],
   "source": [
    "is_steiner_tree(g_common, stpg)"
   ]
  },
  {
   "cell_type": "code",
   "execution_count": 55,
   "metadata": {},
   "outputs": [],
   "source": [
    "# g_common.edges"
   ]
  },
  {
   "cell_type": "code",
   "execution_count": 56,
   "metadata": {},
   "outputs": [],
   "source": [
    "from graph.util import gg_total_weight"
   ]
  },
  {
   "cell_type": "code",
   "execution_count": 57,
   "metadata": {},
   "outputs": [
    {
     "data": {
      "text/plain": [
       "225"
      ]
     },
     "execution_count": 57,
     "metadata": {},
     "output_type": "execute_result"
    }
   ],
   "source": [
    "gg_total_weight(g_common)"
   ]
  },
  {
   "cell_type": "code",
   "execution_count": 58,
   "metadata": {},
   "outputs": [
    {
     "data": {
      "text/plain": [
       "225"
      ]
     },
     "execution_count": 58,
     "metadata": {},
     "output_type": "execute_result"
    }
   ],
   "source": [
    "gg_total_weight(aa)"
   ]
  },
  {
   "cell_type": "code",
   "execution_count": 59,
   "metadata": {},
   "outputs": [
    {
     "data": {
      "text/plain": [
       "227"
      ]
     },
     "execution_count": 59,
     "metadata": {},
     "output_type": "execute_result"
    }
   ],
   "source": [
    "gg_total_weight(bb)"
   ]
  },
  {
   "cell_type": "code",
   "execution_count": null,
   "metadata": {},
   "outputs": [],
   "source": []
  }
 ],
 "metadata": {
  "kernelspec": {
   "display_name": "Python 3",
   "language": "python",
   "name": "python3"
  },
  "language_info": {
   "codemirror_mode": {
    "name": "ipython",
    "version": 3
   },
   "file_extension": ".py",
   "mimetype": "text/x-python",
   "name": "python",
   "nbconvert_exporter": "python",
   "pygments_lexer": "ipython3",
   "version": "3.7.6"
  }
 },
 "nbformat": 4,
 "nbformat_minor": 4
}
